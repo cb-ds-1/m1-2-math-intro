{
 "nbformat": 4,
 "nbformat_minor": 2,
 "metadata": {
  "language_info": {
   "name": "python",
   "codemirror_mode": {
    "name": "ipython",
    "version": 3
   },
   "version": "3.8.3-final"
  },
  "orig_nbformat": 2,
  "file_extension": ".py",
  "mimetype": "text/x-python",
  "name": "python",
  "npconvert_exporter": "python",
  "pygments_lexer": "ipython3",
  "version": 3,
  "kernelspec": {
   "name": "Python 3.8.3 64-bit ('base': conda)",
   "display_name": "Python 3.8.3 64-bit ('base': conda)",
   "metadata": {
    "interpreter": {
     "hash": "6d46af94c2bbce495f1e668725902fa517c90b1782bcfe2fce0dd9868df553d3"
    }
   }
  }
 },
 "cells": [
  {
   "cell_type": "markdown",
   "metadata": {},
   "source": [
    "# Warmup: Count to 50\n",
    "\n",
    "Use a RNG to generate rolls of a 12-sided die. \n",
    "Write a function that counts the number of rolls taken until the total of the rolls totals 50 or more.\n",
    "\n",
    "```\n",
    "rollto50() -> 5\n",
    "rollto50() -> 6\n",
    "```"
   ]
  },
  {
   "cell_type": "code",
   "execution_count": 31,
   "metadata": {},
   "outputs": [],
   "source": [
    "import random\n",
    "\n",
    "def rollto50():\n",
    "  sum = 0\n",
    "  nroll =0\n",
    "  while sum < 50:\n",
    "      sum += random.randint(1, 12)\n",
    "      nroll += 1\n",
    "  return nroll "
   ]
  },
  {
   "cell_type": "code",
   "execution_count": 32,
   "metadata": {},
   "outputs": [
    {
     "output_type": "execute_result",
     "data": {
      "text/plain": [
       "9"
      ]
     },
     "metadata": {},
     "execution_count": 32
    }
   ],
   "source": [
    "rollto50()"
   ]
  },
  {
   "cell_type": "markdown",
   "metadata": {},
   "source": [
    "# Problem 1: Monte Carlo Sampling\n",
    "\n",
    "Data Scientists are often lazy. Instead of calculating the exact probability of complex events, we simulate samples with a RNG and average the results. This is called **Monte Carlo Sampling** after the casino in Monaco (yes, really).\n",
    "\n",
    "Write a function `monte_carlo_dice(n)` that given a 6-sided die, rolls it $n$ times and averages the result.\n",
    "\n",
    "The result should get closer to the true expected value (3.5) as $n$ increases:\n",
    "\n",
    "```\n",
    "n: 100 Trial average 3.39 \n",
    "n: 1000 Trial average 3.576 \n",
    "n: 10000 Trial average 3.5054 \n",
    "n: 100000 Trial average 3.50201 \n",
    "n: 500000 Trial average 3.495568\n",
    "```"
   ]
  },
  {
   "cell_type": "code",
   "execution_count": 200,
   "metadata": {},
   "outputs": [],
   "source": [
    "#from statistics import mean\n",
    "\n",
    "def monte_carlo_dice(n):\n",
    "  trials = [random.randint(1,6) for x in range(n)]\n",
    "  #avg = mean(trials)\n",
    "  avg = sum(trials)/len(trials)\n",
    "  print(f'n: {n} Trials average {avg}')"
   ]
  },
  {
   "cell_type": "code",
   "execution_count": 201,
   "metadata": {},
   "outputs": [
    {
     "output_type": "stream",
     "name": "stdout",
     "text": [
      "n: 100 Trials average 3.77\n",
      "n: 1000 Trials average 3.435\n",
      "n: 10000 Trials average 3.5287\n",
      "n: 100000 Trials average 3.49677\n",
      "n: 500000 Trials average 3.499138\n"
     ]
    }
   ],
   "source": [
    "monte_carlo_dice(100)\n",
    "monte_carlo_dice(1000)\n",
    "monte_carlo_dice(10000)\n",
    "monte_carlo_dice(100000)\n",
    "monte_carlo_dice(500000)"
   ]
  },
  {
   "cell_type": "markdown",
   "metadata": {},
   "source": [
    "# 2: Estimating the Area of a Circle\n",
    "\n",
    "Consider a dartboard with a circle of radius $r$ inscribed in a square with side $2r$. Now let’s say you start throwing a large number of darts at it. \n",
    "\n",
    "Some of these will hit the board within the circle—let’s say, $N$—and others out-side it—let’s say, $M$. If we consider the fraction of darts that land inside the circle:\n",
    "\n",
    "$$f = \\dfrac{N}{N + M}$$\n",
    "\n",
    "Then the value of $f * A$ with $A$ being the area of the square will approximate the actual area of the circle (which is  $\\pi 2 r$)\n",
    "\n",
    "<img src=\"Circle Target.png\" style=\"width: 200px;\">\n",
    "\n",
    "Write a function `circle_estimate(radius, trials)` which will estimate the area of a circle by throwing `trials` random darts at the square.\n",
    "\n",
    "\n",
    "\n",
    "```\n",
    "Radius: 2\n",
    "Area: 12.566370614359172, Estimated (1000 darts): 12.576\n",
    "Area: 12.566370614359172, Estimated (100000 darts): 12.58176\n",
    "Area: 12.566370614359172, Estimated (1000000 darts): 12.560128\n",
    "```\n",
    "\n",
    "**Hint:** Generate 2 random numbers for each dart throw, one for the `x` axis and one for the `y` axis. Use the [Pythagorean Theorem](https://en.wikipedia.org/wiki/Pythagorean_theorem) find if it's outside the circle"
   ]
  },
  {
   "cell_type": "code",
   "execution_count": 35,
   "metadata": {},
   "outputs": [],
   "source": [
    "import math\n",
    "\n",
    "def circle_estimate(radius, trials):\n",
    "\n",
    "  throws = ([[random.uniform(-radius,radius),\n",
    "            random.uniform(-radius,radius)] \n",
    "            for x in range(trials)]\n",
    "  )\n",
    "  \n",
    "  in_circle = []\n",
    "  for i in range(len(throws)):\n",
    "    dist = math.sqrt(throws[i][0]**2 + throws[i][1]**2)\n",
    "    in_circle.append(1 if dist <= radius else 0)\n",
    "\n",
    "  a = math.pi*radius**2\n",
    "  estim_a = sum(in_circle)/trials * (2*radius)**2\n",
    "\n",
    "  return print(f'Area: {a}, Estimated ({trials} darts): {estim_a}')"
   ]
  },
  {
   "cell_type": "code",
   "execution_count": 36,
   "metadata": {},
   "outputs": [
    {
     "output_type": "stream",
     "name": "stdout",
     "text": [
      "Area: 12.566370614359172, Estimated (1000 darts): 12.624\n",
      "Area: 12.566370614359172, Estimated (100000 darts): 12.544\n",
      "Area: 12.566370614359172, Estimated (1000000 darts): 12.565968\n"
     ]
    }
   ],
   "source": [
    "circle_estimate(2,1000)\n",
    "circle_estimate(2,100000)\n",
    "circle_estimate(2,1000000)"
   ]
  },
  {
   "cell_type": "markdown",
   "metadata": {},
   "source": [
    "# 3: Binomial distribution\n",
    "\n",
    "The [binomial random variable](https://en.wikipedia.org/wiki/Binomial_distribution) $ Y \\sim Bin(n, p) $ represents the number of successes in $ n $ coin flips, where each trial succeeds with probability $ p $.\n",
    "\n",
    "Without any import besides `from numpy.random import uniform`, write a function\n",
    "`binomial_rv` such that `binomial_rv(n, p)` generates one draw of $ Y $.\n",
    "\n",
    "Hint: If $ U $ is uniform on $ (0, 1) $ and $ p \\in (0,1) $, then the expression `U < p` evaluates to `True` with probability $ p $."
   ]
  },
  {
   "cell_type": "code",
   "execution_count": 217,
   "metadata": {},
   "outputs": [],
   "source": [
    "from numpy.random import uniform\n",
    "\n",
    "# simulation implementation\n",
    "def binomial_rv(n, p):\n",
    "\n",
    "    count = 0\n",
    "    for i in range(n):\n",
    "        U = numpy.random.uniform(0,1,1)\n",
    "        #print(U)\n",
    "\n",
    "        if U < p: count += 1\n",
    "    return count"
   ]
  },
  {
   "cell_type": "code",
   "execution_count": 218,
   "metadata": {},
   "outputs": [
    {
     "output_type": "execute_result",
     "data": {
      "text/plain": [
       "5"
      ]
     },
     "metadata": {},
     "execution_count": 218
    }
   ],
   "source": [
    "binomial_rv(10, 0.5) # 5"
   ]
  },
  {
   "cell_type": "code",
   "execution_count": 219,
   "metadata": {},
   "outputs": [],
   "source": [
    "# short implementation\n",
    "\n",
    "def binomial_rv2(n, p):\n",
    "    return sum ([ y > p for y in numpy.random.uniform(0,1,n) ])"
   ]
  },
  {
   "cell_type": "code",
   "execution_count": 220,
   "metadata": {},
   "outputs": [
    {
     "output_type": "execute_result",
     "data": {
      "text/plain": [
       "5"
      ]
     },
     "metadata": {},
     "execution_count": 220
    }
   ],
   "source": [
    "binomial_rv2(10, 0.5) # 5"
   ]
  },
  {
   "cell_type": "code",
   "execution_count": 227,
   "metadata": {},
   "outputs": [
    {
     "output_type": "execute_result",
     "data": {
      "text/plain": [
       "0.24609375"
      ]
     },
     "metadata": {},
     "execution_count": 227
    }
   ],
   "source": [
    "\n",
    "# theorical implementation of binomial probability\n",
    "def binomial_p(n, p):\n",
    "    k = round(n * p)\n",
    "    bc = factorial(n) / (factorial(k) * factorial(n-k))\n",
    "    brv = bc * p ** k * (1 - p) ** (n - k)\n",
    "    return brv\n",
    "\n",
    "def factorial(n):\n",
    "    f = 1\n",
    "    for i in range(1,n+1): f *= i\n",
    "    return f\n",
    "\n",
    "binomial_p(10, 0.5) # 0.246\n"
   ]
  },
  {
   "cell_type": "code",
   "execution_count": null,
   "metadata": {},
   "outputs": [],
   "source": []
  }
 ]
}
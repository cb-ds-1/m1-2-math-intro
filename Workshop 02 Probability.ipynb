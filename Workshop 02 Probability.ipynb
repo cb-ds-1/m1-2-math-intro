{
 "nbformat": 4,
 "nbformat_minor": 2,
 "metadata": {
  "language_info": {
   "name": "python",
   "codemirror_mode": {
    "name": "ipython",
    "version": 3
   },
   "version": "3.8.3-final"
  },
  "orig_nbformat": 2,
  "file_extension": ".py",
  "mimetype": "text/x-python",
  "name": "python",
  "npconvert_exporter": "python",
  "pygments_lexer": "ipython3",
  "version": 3,
  "kernelspec": {
   "name": "Python 3.8.3 64-bit ('base': conda)",
   "display_name": "Python 3.8.3 64-bit ('base': conda)",
   "metadata": {
    "interpreter": {
     "hash": "19b08bd414d9ce04726a1daf78c19527c3eba365544edc4dafdf03dd189be067"
    }
   }
  }
 },
 "cells": [
  {
   "cell_type": "markdown",
   "metadata": {},
   "source": [
    "# Warmup: Count to 50\n",
    "\n",
    "Use a RNG to generate rolls of a 12-sided die. \n",
    "Write a function that counts the number of rolls taken until the total of the rolls totals 50 or more.\n",
    "\n",
    "```\n",
    "rollto50() -> 5\n",
    "rollto50() -> 6\n",
    "```"
   ]
  },
  {
   "cell_type": "code",
   "execution_count": 23,
   "metadata": {},
   "outputs": [],
   "source": []
  },
  {
   "cell_type": "markdown",
   "metadata": {},
   "source": [
    "# Problem 1: Monte Carlo Sampling\n",
    "\n",
    "Data Scientists are often lazy. Instead of calculating the exact probability of complex events, we simulate samples with a RNG and average the results. This is called **Monte Carlo Sampling** after the casino in Monaco (yes, really).\n",
    "\n",
    "Write a function `monte_carlo_dice(n)` that given a 6-sided die, rolls it $n$ times and averages the result.\n",
    "\n",
    "The result should get closer to the true expected value (3.5) as $n$ increases:\n",
    "\n",
    "```\n",
    "n: 100 Trial average 3.39 \n",
    "n: 1000 Trial average 3.576 \n",
    "n: 10000 Trial average 3.5054 \n",
    "n: 100000 Trial average 3.50201 \n",
    "n: 500000 Trial average 3.495568\n",
    "```"
   ]
  },
  {
   "cell_type": "code",
   "execution_count": 92,
   "metadata": {},
   "outputs": [
    {
     "output_type": "stream",
     "name": "stdout",
     "text": [
      "3.69\n"
     ]
    }
   ],
   "source": [
    "def monte_carlo_dice(n):\n",
    "    final_sum = 0\n",
    "    for i in range(0,n):\n",
    "        final_sum += random.randint(1,6)\n",
    "    return final_sum / n\n",
    "\n",
    "print(monte_carlo_dice(100))\n"
   ]
  },
  {
   "cell_type": "markdown",
   "metadata": {},
   "source": [
    "# 2: Estimating the Area of a Circle\n",
    "\n",
    "Consider a dartboard with a circle of radius $r$ inscribed in a square with side $2r$. Now let’s say you start throwing a large number of darts at it. \n",
    "\n",
    "Some of these will hit the board within the circle—let’s say, $N$—and others out-side it—let’s say, $M$. If we consider the fraction of darts that land inside the circle:\n",
    "\n",
    "$$f = \\dfrac{N}{N + M}$$\n",
    "\n",
    "Then the value of $f * A$ with $A$ being the area of the square will approximate the actual area of the circle (which is  $\\pi r^2$)\n",
    "\n",
    "<img src=\"Circle Target.png\" style=\"width: 200px;\">\n",
    "\n",
    "Write a function `circle_estimate(radius, trials)` which will estimate the area of a circle by throwing `trials` random darts at the square.\n",
    "\n",
    "\n",
    "\n",
    "```\n",
    "Radius: 2\n",
    "Area: 12.566370614359172, Estimated (1000 darts): 12.576\n",
    "Area: 12.566370614359172, Estimated (100000 darts): 12.58176\n",
    "Area: 12.566370614359172, Estimated (1000000 darts): 12.560128\n",
    "```\n",
    "\n",
    "**Hint:** Generate 2 random numbers for each dart throw, one for the `x` axis and one for the `y` axis. Use the [Pythagorean Theorem](https://en.wikipedia.org/wiki/Pythagorean_theorem) find if it's outside the circle"
   ]
  },
  {
   "cell_type": "code",
   "execution_count": 97,
   "metadata": {},
   "outputs": [
    {
     "output_type": "stream",
     "name": "stdout",
     "text": [
      "(12.559008, 12.566370614359172)\n"
     ]
    }
   ],
   "source": [
    "def circle_estimate(radius, trials):\n",
    "    circle = np.pi * (radius ** 2) \n",
    "    square = (2 * radius) ** 2\n",
    "    hit = 0\n",
    "    for i in range(trials): \n",
    "        x = np.random.uniform(- radius, + radius)\n",
    "        y = np.random.uniform(- radius, + radius)\n",
    "        if x**2 + y**2 <= radius**2:\n",
    "            hit += 1 \n",
    "    fraction = hit / trials \n",
    "    return fraction * square , circle \n",
    "\n",
    "print(circle_estimate(2, 1000000))\n"
   ]
  },
  {
   "cell_type": "markdown",
   "metadata": {},
   "source": [
    "# 3: Binomial distribution\n",
    "\n",
    "The [binomial random variable](https://en.wikipedia.org/wiki/Binomial_distribution) $ Y \\sim Bin(n, p) $ represents the number of successes in $ n $ coin flips, where each trial succeeds with probability $ p $.\n",
    "\n",
    "Without any import besides `from numpy.random import uniform`, write a function\n",
    "`binomial_rv` such that `binomial_rv(n, p)` generates one draw of $ Y $.\n",
    "\n",
    "Hint: If $ U $ is uniform on $ (0, 1) $ and $ p \\in (0,1) $, then the expression `U < p` evaluates to `True` with probability $ p $."
   ]
  },
  {
   "cell_type": "code",
   "execution_count": 200,
   "metadata": {},
   "outputs": [
    {
     "output_type": "stream",
     "name": "stdout",
     "text": [
      "probability is set to  0.5\nTails = 0, Heads = 1:  [1 0 1 1 1 0 1 0 0 0]\nHead Count:  5\n"
     ]
    }
   ],
   "source": [
    "import numpy as np\n",
    "\n",
    "def coinFlip(p):    \n",
    "    #perform the binomial distribution (returns 0 or 1)    \n",
    "    result = np.random.binomial(1,p)\n",
    "    #return flip to be added to numpy array    \n",
    "    return result\n",
    "\n",
    "'''Main Area'''\n",
    "#probability of heads vs. tails. This can be changed.\n",
    "probability = .5\n",
    "#num of flips required. This can be changed.\n",
    "n = 10\n",
    "\n",
    "#initiate array\n",
    "fullResults = np.arange(n)\n",
    "\n",
    "#perform desired numbered of flips at required probability set above\n",
    "for i in range(0, n):    \n",
    "    fullResults[i] = coinFlip(probability)    \n",
    "    i+=1\n",
    "\n",
    "#print results\n",
    "print(\"probability is set to \", probability)\n",
    "print(\"Tails = 0, Heads = 1: \", fullResults)\n",
    "#Total up heads and tails for easy user experience \n",
    "print(\"Head Count: \", np.count_nonzero(fullResults == 1))"
   ]
  }
 ]
}
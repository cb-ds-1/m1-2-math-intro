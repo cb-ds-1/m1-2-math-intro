{
 "nbformat": 4,
 "nbformat_minor": 2,
 "metadata": {
  "language_info": {
   "name": "python",
   "codemirror_mode": {
    "name": "ipython",
    "version": 3
   },
   "version": "3.8.5-final"
  },
  "orig_nbformat": 2,
  "file_extension": ".py",
  "mimetype": "text/x-python",
  "name": "python",
  "npconvert_exporter": "python",
  "pygments_lexer": "ipython3",
  "version": 3,
  "kernelspec": {
   "name": "Python 3.8.5 64-bit",
   "display_name": "Python 3.8.5 64-bit",
   "metadata": {
    "interpreter": {
     "hash": "1ee38ef4a5a9feb55287fd749643f13d043cb0a7addaab2a9c224cbe137c0062"
    }
   }
  }
 },
 "cells": [
  {
   "cell_type": "markdown",
   "metadata": {},
   "source": [
    "# Warmup: Count to 50\n",
    "\n",
    "Use a RNG to generate rolls of a 12-sided die. \n",
    "Write a function that counts the number of rolls taken until the total of the rolls totals 50 or more.\n",
    "\n",
    "```\n",
    "rollto50() -> 5\n",
    "rollto50() -> 6\n",
    "```"
   ]
  },
  {
   "cell_type": "code",
   "execution_count": 20,
   "metadata": {},
   "outputs": [
    {
     "output_type": "stream",
     "name": "stdout",
     "text": [
      "26\n39\n"
     ]
    }
   ],
   "source": [
    "import random\n",
    "import math\n",
    "\n",
    "rollto50 = lambda : math.ceil(random.random() * 51)\n",
    "print(rollto50())\n",
    "print(rollto50()) "
   ]
  },
  {
   "cell_type": "markdown",
   "metadata": {},
   "source": [
    "# Problem 1: Monte Carlo Sampling\n",
    "\n",
    "Data Scientists are often lazy. Instead of calculating the exact probability of complex events, we simulate samples with a RNG and average the results. This is called **Monte Carlo Sampling** after the casino in Monaco (yes, really).\n",
    "\n",
    "Write a function `monte_carlo_dice(n)` that given a 6-sided die, rolls it $n$ times and averages the result.\n",
    "\n",
    "The result should get closer to the true expected value (3.5) as $n$ increases:\n",
    "\n",
    "```\n",
    "n: 100 Trial average 3.39 \n",
    "n: 1000 Trial average 3.576 \n",
    "n: 10000 Trial average 3.5054 \n",
    "n: 100000 Trial average 3.50201 \n",
    "n: 500000 Trial average 3.495568\n",
    "```"
   ]
  },
  {
   "cell_type": "code",
   "execution_count": 1,
   "metadata": {},
   "outputs": [
    {
     "output_type": "stream",
     "name": "stdout",
     "text": [
      "3.51\n",
      "3.492\n",
      "3.4953\n",
      "3.50304\n",
      "3.499294\n"
     ]
    }
   ],
   "source": [
    "import random\n",
    "import functools\n",
    "import operator\n",
    "\n",
    "def monte_carlo_dice(n):\n",
    "    dice = [1,2,3,4,5,6]\n",
    "    rolls = [random.choice(dice) for x in range(n)]\n",
    "    total = functools.reduce(operator.add, rolls)\n",
    "    return total / n\n",
    "    \n",
    "print(monte_carlo_dice(100))    \n",
    "print(monte_carlo_dice(1000))    \n",
    "print(monte_carlo_dice(10000))    \n",
    "print(monte_carlo_dice(100000))    \n",
    "print(monte_carlo_dice(500000))    "
   ]
  },
  {
   "cell_type": "markdown",
   "metadata": {},
   "source": [
    "# 2: Estimating the Area of a Circle\n",
    "\n",
    "Consider a dartboard with a circle of radius $r$ inscribed in a square with side $2r$. Now let’s say you start throwing a large number of darts at it. \n",
    "\n",
    "Some of these will hit the board within the circle—let’s say, $N$—and others out-side it—let’s say, $M$. If we consider the fraction of darts that land inside the circle:\n",
    "\n",
    "$$f = \\dfrac{N}{N + M}$$\n",
    "\n",
    "Then the value of $f * A$ with $A$ being the area of the square will approximate the actual area of the circle (which is  $\\pi 2 r$)\n",
    "\n",
    "<img src=\"Circle Target.png\" style=\"width: 200px;\">\n",
    "\n",
    "Write a function `circle_estimate(radius, trials)` which will estimate the area of a circle by throwing `trials` random darts at the square.\n",
    "\n",
    "\n",
    "\n",
    "```\n",
    "Radius: 2\n",
    "Area: 12.566370614359172, Estimated (1000 darts): 12.576\n",
    "Area: 12.566370614359172, Estimated (100000 darts): 12.58176\n",
    "Area: 12.566370614359172, Estimated (1000000 darts): 12.560128\n",
    "```\n",
    "\n",
    "**Hint:** Generate 2 random numbers for each dart throw, one for the `x` axis and one for the `y` axis. Use the [Pythagorean Theorem](https://en.wikipedia.org/wiki/Pythagorean_theorem) find if it's outside the circle"
   ]
  },
  {
   "cell_type": "code",
   "execution_count": 218,
   "metadata": {},
   "outputs": [
    {
     "output_type": "stream",
     "name": "stdout",
     "text": [
      "Area 12.566370614359172, estimated 12.48\nArea 12.566370614359172, estimated 12.55536\nArea 12.566370614359172, estimated 12.5552\n"
     ]
    }
   ],
   "source": [
    "import random\n",
    "import functools\n",
    "import operator\n",
    "import math\n",
    "\n",
    "    \n",
    "def circle_estimate(radius, trial):\n",
    "    # counters \n",
    "    hit = 0\n",
    "    miss = 0\n",
    "\n",
    "    # helper func to return coordinates tupples for throws -> (x, y) \n",
    "    throw = lambda : (random.uniform(radius * -1, radius), random.uniform(radius * -1, radius))\n",
    "    # sohcahtoa 🤓🤓\n",
    "    is_in_circle = lambda tupple : math.sqrt((0 - tupple[0]) ** 2 + (0 - tupple[1]) ** 2) <= radius\n",
    "    # throw darts and count hit/miss\n",
    "    for x in range(trial):\n",
    "        if (is_in_circle(throw())):\n",
    "            hit = hit + 1\n",
    "        else:\n",
    "            miss = miss + 1\n",
    "    \n",
    "    # some random calculations\n",
    "    ratio = hit / (hit + miss)\n",
    "    total_area = (2 * radius) * (2 * radius)\n",
    "    real_circle_area = math.pi * radius**2\n",
    "    estimated_circle_area = total_area * ratio\n",
    "\n",
    "    print(f\"Area {real_circle_area }, estimated {estimated_circle_area}\")    \n",
    "\n",
    "circle_estimate(2, 1000)\n",
    "circle_estimate(2, 10000)\n",
    "circle_estimate(2, 100000)"
   ]
  },
  {
   "cell_type": "markdown",
   "metadata": {},
   "source": [
    "# 3: Binomial distribution\n",
    "\n",
    "The [binomial random variable](https://en.wikipedia.org/wiki/Binomial_distribution) $ Y \\sim Bin(n, p) $ represents the number of successes in $ n $ coin flips, where each trial succeeds with probability $ p $.\n",
    "\n",
    "Without any import besides `from numpy.random import uniform`, write a function\n",
    "`binomial_rv` such that `binomial_rv(n, p)` generates one draw of $ Y $.\n",
    "\n",
    "Hint: If $ U $ is uniform on $ (0, 1) $ and $ p \\in (0,1) $, then the expression `U < p` evaluates to `True` with probability $ p $."
   ]
  }
 ]
}
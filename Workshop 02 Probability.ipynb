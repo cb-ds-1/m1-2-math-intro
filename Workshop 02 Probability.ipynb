{
 "nbformat": 4,
 "nbformat_minor": 2,
 "metadata": {
  "language_info": {
   "name": "python",
   "codemirror_mode": {
    "name": "ipython",
    "version": 3
   },
   "version": "3.8.3-final"
  },
  "orig_nbformat": 2,
  "file_extension": ".py",
  "mimetype": "text/x-python",
  "name": "python",
  "npconvert_exporter": "python",
  "pygments_lexer": "ipython3",
  "version": 3,
  "kernelspec": {
   "name": "Python 3.8.3 64-bit",
   "display_name": "Python 3.8.3 64-bit",
   "metadata": {
    "interpreter": {
     "hash": "82a77b27a50152e85cd94ea95c5b8153c51247bf9d4b2e18e81e592852443874"
    }
   }
  }
 },
 "cells": [
  {
   "cell_type": "markdown",
   "metadata": {},
   "source": [
    "# Warmup: Count to 50\n",
    "\n",
    "Use a RNG to generate rolls of a 12-sided die. \n",
    "Write a function that counts the number of rolls taken until the total of the rolls totals 50 or more.\n",
    "\n",
    "```\n",
    "rollto50() -> 5\n",
    "rollto50() -> 6\n",
    "```"
   ]
  },
  {
   "cell_type": "code",
   "execution_count": 1,
   "metadata": {},
   "outputs": [
    {
     "output_type": "stream",
     "name": "stdout",
     "text": [
      "It took 9 rolls to reach a total of 50 or more\nIt took 7 rolls to reach a total of 50 or more\nIt took 9 rolls to reach a total of 50 or more\nIt took 8 rolls to reach a total of 50 or more\n"
     ]
    }
   ],
   "source": [
    "import numpy as np\n",
    "import random\n",
    "\n",
    "def rollto50():\n",
    "    \"\"\"\n",
    "    This function counts the number of \n",
    "    rolls for a 12-sided die to sum to\n",
    "    50 or more.\n",
    "    \"\"\"\n",
    "    # start with zero elements\n",
    "    rolls = []\n",
    "\n",
    "    # keep appending a roll of the die while\n",
    "    # checking the summation against 50\n",
    "    while sum(rolls) < 50:\n",
    "        rolls.append(random.randint(1, 13))\n",
    "\n",
    "    return len(rolls)\n",
    "\n",
    "print('It took {} rolls to reach a total of 50 or more'.format(rollto50()))\n",
    "print('It took {} rolls to reach a total of 50 or more'.format(rollto50()))\n",
    "print('It took {} rolls to reach a total of 50 or more'.format(rollto50()))\n",
    "print('It took {} rolls to reach a total of 50 or more'.format(rollto50()))"
   ]
  },
  {
   "cell_type": "markdown",
   "metadata": {},
   "source": [
    "# Problem 1: Monte Carlo Sampling\n",
    "\n",
    "Data Scientists are often lazy. Instead of calculating the exact probability of complex events, we simulate samples with a RNG and average the results. This is called **Monte Carlo Sampling** after the casino in Monaco (yes, really).\n",
    "\n",
    "Write a function `monte_carlo_dice(n)` that given a 6-sided die, rolls it $n$ times and averages the result.\n",
    "\n",
    "The result should get closer to the true expected value (3.5) as $n$ increases:\n",
    "\n",
    "```\n",
    "n: 100 Trial average 3.39 \n",
    "n: 1000 Trial average 3.576 \n",
    "n: 10000 Trial average 3.5054 \n",
    "n: 100000 Trial average 3.50201 \n",
    "n: 500000 Trial average 3.495568\n",
    "```"
   ]
  },
  {
   "cell_type": "code",
   "execution_count": 2,
   "metadata": {},
   "outputs": [
    {
     "output_type": "stream",
     "name": "stdout",
     "text": [
      "n: 100 Trial average is 3.49\n",
      "n: 1000 Trial average is 3.483\n",
      "n: 10000 Trial average is 3.4931\n",
      "n: 100000 Trial average is 3.49905\n",
      "n: 500000 Trial average is 3.494562\n",
      "n: 1000000 Trial average is 3.499849\n"
     ]
    }
   ],
   "source": [
    "import numpy as np\n",
    "import random\n",
    "\n",
    "def monte_carlo_dice(n):\n",
    "    \"\"\"\n",
    "    Returns the average value of n rolls\n",
    "    of a six-sided die.\n",
    "    \"\"\"\n",
    "    # start an empty list\n",
    "    rolls = []\n",
    "\n",
    "    # start a loop of n rolls\n",
    "    for _ in range(n):\n",
    "        # roll the 6-sided die\n",
    "        rolls.append(random.randint(1, 6))\n",
    "    # return the average\n",
    "    return sum(rolls) / n\n",
    "\n",
    "for n in [100, 1000, 10000, 100000, 500000, 1000000]:\n",
    "    print('n: {} Trial average is {}'.format(n, monte_carlo_dice(n)))"
   ]
  },
  {
   "cell_type": "markdown",
   "metadata": {},
   "source": [
    "# 2: Estimating the Area of a Circle\n",
    "\n",
    "Consider a dartboard with a circle of radius $r$ inscribed in a square with side $2r$. Now let’s say you start throwing a large number of darts at it. \n",
    "\n",
    "Some of these will hit the board within the circle—let’s say, $N$—and others out-side it—let’s say, $M$. If we consider the fraction of darts that land inside the circle:\n",
    "\n",
    "$$f = \\dfrac{N}{N + M}$$\n",
    "\n",
    "Then the value of $f * A$ with $A$ being the area of the square will approximate the actual area of the circle (which is  $\\pi r^2$)\n",
    "\n",
    "<img src=\"Circle Target.png\" style=\"width: 200px;\">\n",
    "\n",
    "Write a function `circle_estimate(radius, trials)` which will estimate the area of a circle by throwing `trials` random darts at the square.\n",
    "\n",
    "\n",
    "\n",
    "```\n",
    "Radius: 2\n",
    "Area: 12.566370614359172, Estimated (1000 darts): 12.576\n",
    "Area: 12.566370614359172, Estimated (100000 darts): 12.58176\n",
    "Area: 12.566370614359172, Estimated (1000000 darts): 12.560128\n",
    "```\n",
    "\n",
    "**Hint:** Generate 2 random numbers for each dart throw, one for the `x` axis and one for the `y` axis. Use the [Pythagorean Theorem](https://en.wikipedia.org/wiki/Pythagorean_theorem) find if it's outside the circle"
   ]
  },
  {
   "cell_type": "code",
   "execution_count": 3,
   "metadata": {},
   "outputs": [
    {
     "output_type": "stream",
     "name": "stdout",
     "text": [
      "Radius: 2\n",
      "Area: 12.566370614359172, Estimated (100 darts): 12.32\n",
      "Area: 12.566370614359172, Estimated (1000 darts): 12.88\n",
      "Area: 12.566370614359172, Estimated (10000 darts): 12.4192\n",
      "Area: 12.566370614359172, Estimated (100000 darts): 12.56608\n",
      "Area: 12.566370614359172, Estimated (1000000 darts): 12.57384\n"
     ]
    }
   ],
   "source": [
    "import numpy as np\n",
    "import random\n",
    "\n",
    "def circle_estimation(rad, trls):\n",
    "    \"\"\"\n",
    "    Use a RNG to simulate dart throws on a square\n",
    "    and then return the estimation of the circle\n",
    "    area bound by the square.\n",
    "    \"\"\"\n",
    "\n",
    "    # generate the x and y values using the uniform \n",
    "    # distribution of random numbers over a \n",
    "    # range of [-radius, +radius] for both.\n",
    "    # this simulates trial number of x,y dart hits\n",
    "    # in a square of 2r about the origin\n",
    "    coord = np.random.rand(2, trls) * 2 * rad - rad\n",
    "\n",
    "    # calculate the radius\n",
    "    radius = np.sqrt(coord[0,:]**2 + coord[1,:]**2)\n",
    "\n",
    "    # count the radii less than or equal to radius\n",
    "    count = sum(radius <= rad)\n",
    "    \n",
    "    return count / (trls) * (2 * rad) ** 2\n",
    "\n",
    "r = 2\n",
    "print('Radius: {}'.format(r))\n",
    "area = np.pi * r ** 2\n",
    "for n in [100, 1000, 10000, 100000, 1000000]:\n",
    "    print('Area: {}, Estimated ({} darts): {}'.format(area, n, circle_estimation(r, n)))"
   ]
  },
  {
   "cell_type": "markdown",
   "metadata": {},
   "source": [
    "# 3: Binomial distribution\n",
    "\n",
    "The [binomial random variable](https://en.wikipedia.org/wiki/Binomial_distribution) $ Y \\sim Bin(n, p) $ represents the number of successes in $ n $ coin flips, where each trial succeeds with probability $ p $.\n",
    "\n",
    "Without any import besides `from numpy.random import uniform`, write a function\n",
    "`binomial_rv` such that `binomial_rv(n, p)` generates one draw of $ Y $.\n",
    "\n",
    "Hint: If $ U $ is uniform on $ (0, 1) $ and $ p \\in (0,1) $, then the expression `U < p` evaluates to `True` with probability $ p $."
   ]
  },
  {
   "cell_type": "code",
   "execution_count": 4,
   "metadata": {},
   "outputs": [
    {
     "output_type": "stream",
     "name": "stdout",
     "text": [
      "n: 20, p: 0.1, draw binomial: 2\nn: 20, p: 0.5, draw binomial: 8\nn: 20, p: 0.8, draw binomial: 14\nn: 50, p: 0.1, draw binomial: 7\nn: 50, p: 0.5, draw binomial: 26\nn: 50, p: 0.8, draw binomial: 40\nn: 100, p: 0.1, draw binomial: 13\nn: 100, p: 0.5, draw binomial: 44\nn: 100, p: 0.8, draw binomial: 73\n"
     ]
    }
   ],
   "source": [
    "from numpy.random import uniform\n",
    "\n",
    "def binomial_rv(n, p):\n",
    "    \"\"\"\n",
    "    Returns the cummulative sum of\n",
    "    positive results from n counts\n",
    "    with probability p.\n",
    "    \"\"\"\n",
    "    # generate n draws of uniform distribution and count\n",
    "    # the number of results less than p\n",
    "    draw_uni = sum(uniform(0, 1, n) < p)\n",
    "    \n",
    "    return draw_uni\n",
    "\n",
    "# generate print output for testing\n",
    "p_vals = [0.1, 0.5, 0.8]\n",
    "n_vals = [20, 50, 100]\n",
    "\n",
    "for n in n_vals:\n",
    "    for p in p_vals:\n",
    "        print('n: {}, p: {}, draw binomial: {}'.format(n, p, binomial_rv(n, p)))"
   ]
  },
  {
   "cell_type": "code",
   "execution_count": null,
   "metadata": {},
   "outputs": [],
   "source": []
  }
 ]
}
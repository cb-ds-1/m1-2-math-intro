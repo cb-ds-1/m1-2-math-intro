{
 "cells": [
  {
   "cell_type": "markdown",
   "metadata": {},
   "source": [
    "# Warmup: Count to 50\n",
    "\n",
    "Use a RNG to generate rolls of a 12-sided die. \n",
    "Write a function that counts the number of rolls taken until the total of the rolls totals 50 or more.\n",
    "\n",
    "```\n",
    "rollto50() -> 5\n",
    "rollto50() -> 6\n",
    "```"
   ]
  },
  {
   "cell_type": "code",
   "execution_count": 4,
   "metadata": {},
   "outputs": [
    {
     "name": "stdout",
     "output_type": "stream",
     "text": [
      "18\n",
      "17\n",
      "15\n"
     ]
    }
   ],
   "source": [
    "import random\n",
    "\n",
    "def rollto50():\n",
    "    rolls = 1\n",
    "    sumRolls = 0\n",
    "    while sumRolls < 50:\n",
    "        value = random.randint(1,6)\n",
    "        sumRolls += value\n",
    "        rolls += 1\n",
    "    return rolls\n",
    "\n",
    "print(rollto50())\n",
    "print(rollto50())\n",
    "print(rollto50())"
   ]
  },
  {
   "cell_type": "markdown",
   "metadata": {},
   "source": [
    "# Problem 1: Monte Carlo Sampling\n",
    "\n",
    "Data Scientists are often lazy. Instead of calculating the exact probability of complex events, we simulate samples with a RNG and average the results. This is called **Monte Carlo Sampling** after the casino in Monaco (yes, really).\n",
    "\n",
    "Write a function `monte_carlo_dice(n)` that given a 6-sided die, rolls it $n$ times and averages the result.\n",
    "\n",
    "The result should get closer to the true expected value (3.5) as $n$ increases:\n",
    "\n",
    "```\n",
    "n: 100 Trial average 3.39 \n",
    "n: 1000 Trial average 3.576 \n",
    "n: 10000 Trial average 3.5054 \n",
    "n: 100000 Trial average 3.50201 \n",
    "n: 500000 Trial average 3.495568\n",
    "```"
   ]
  },
  {
   "cell_type": "code",
   "execution_count": 4,
   "metadata": {},
   "outputs": [
    {
     "name": "stdout",
     "output_type": "stream",
     "text": [
      "3.23\n",
      "3.548\n",
      "3.5054\n",
      "3.51296\n"
     ]
    }
   ],
   "source": [
    "import random\n",
    "import statistics as stats\n",
    "\n",
    "def monte_carlo_dice(n):\n",
    "    total = []\n",
    "    for roll in range(1, n + 1): total.append(random.randint(1,6))\n",
    "    return stats.mean(total)\n",
    "\n",
    "print(monte_carlo_dice(100))\n",
    "print(monte_carlo_dice(1000))\n",
    "print(monte_carlo_dice(10000))\n",
    "print(monte_carlo_dice(100000))"
   ]
  },
  {
   "cell_type": "markdown",
   "metadata": {},
   "source": [
    "# 2: Estimating the Area of a Circle\n",
    "\n",
    "Consider a dartboard with a circle of radius $r$ inscribed in a square with side $2r$. Now let’s say you start throwing a large number of darts at it. \n",
    "\n",
    "Some of these will hit the board within the circle—let’s say, $N$—and others out-side it—let’s say, $M$. If we consider the fraction of darts that land inside the circle:\n",
    "\n",
    "$$f = \\dfrac{N}{N + M}$$\n",
    "\n",
    "Then the value of $f * A$ with $A$ being the area of the square will approximate the actual area of the circle (which is  $\\pi 2 r$)\n",
    "\n",
    "<img src=\"Circle Target.png\" style=\"width: 200px;\">\n",
    "\n",
    "Write a function `circle_estimate(radius, trials)` which will estimate the area of a circle by throwing `trials` random darts at the square.\n",
    "\n",
    "\n",
    "\n",
    "```\n",
    "Radius: 2\n",
    "Area: 12.566370614359172, Estimated (1000 darts): 12.576\n",
    "Area: 12.566370614359172, Estimated (100000 darts): 12.58176\n",
    "Area: 12.566370614359172, Estimated (1000000 darts): 12.560128\n",
    "```\n",
    "\n",
    "**Hint:** Generate 2 random numbers for each dart throw, one for the `x` axis and one for the `y` axis. Use the [Pythagorean Theorem](https://en.wikipedia.org/wiki/Pythagorean_theorem) find if it's outside the circle"
   ]
  },
  {
   "cell_type": "code",
   "execution_count": 55,
   "metadata": {},
   "outputs": [
    {
     "name": "stdout",
     "output_type": "stream",
     "text": [
      "Area:  12.566370614359172 , Estimated ( 1000  darts):  12.912\n",
      "Area:  12.566370614359172 , Estimated ( 10000  darts):  12.6144\n",
      "Area:  12.566370614359172 , Estimated ( 100000  darts):  12.58512\n"
     ]
    }
   ],
   "source": [
    "import math\n",
    "import random\n",
    "\n",
    "def circle_estimate(radius, trials):\n",
    "    \n",
    "    N = 0\n",
    "    M = 0\n",
    "    side_of_square = radius * 2\n",
    "    '''\n",
    "    Since square is 2r, minX & minY is -r\n",
    "    and maxX & maxY is +r\n",
    "    '''\n",
    "    def RNG_coord(): return random.uniform(-radius, radius)\n",
    "    \n",
    "    \"\"\"\n",
    "    Applying Pythagore's Theorem\n",
    "    and generating the random point\n",
    "    \"\"\"\n",
    "    def point_is_in_circle(): return radius >= math.sqrt((RNG_coord()**2) + (RNG_coord()**2))\n",
    "    \n",
    "    for _ in range(1, trials + 1):\n",
    "        if point_is_in_circle(): N += 1\n",
    "        else: M += 1\n",
    "\n",
    "    f = N / (N + M)\n",
    "    A = (side_of_square * side_of_square)\n",
    "    print(\"Area: \", math.pi * radius**2, \", Estimated (\", trials,\" darts): \", f * A)\n",
    "\n",
    "circle_estimate(2, 1000)\n",
    "circle_estimate(2, 10000)\n",
    "circle_estimate(2, 100000)\n",
    "        "
   ]
  },
  {
   "cell_type": "markdown",
   "metadata": {},
   "source": [
    "# 3: Binomial distribution\n",
    "\n",
    "The [binomial random variable](https://en.wikipedia.org/wiki/Binomial_distribution) $ Y \\sim Bin(n, p) $ represents the number of successes in $ n $ coin flips, where each trial succeeds with probability $ p $.\n",
    "\n",
    "Without any import besides `from numpy.random import uniform`, write a function\n",
    "`binomial_rv` such that `binomial_rv(n, p)` generates one draw of $ Y $.\n",
    "\n",
    "Hint: If $ U $ is uniform on $ (0, 1) $ and $ p \\in (0,1) $, then the expression `U < p` evaluates to `True` with probability $ p $."
   ]
  },
  {
   "cell_type": "code",
   "execution_count": 82,
   "metadata": {},
   "outputs": [
    {
     "data": {
      "text/plain": [
       "3"
      ]
     },
     "execution_count": 82,
     "metadata": {},
     "output_type": "execute_result"
    }
   ],
   "source": [
    "from numpy.random import uniform\n",
    "\n",
    "def binomial_rv(n, p):\n",
    "    draw = uniform(0, 1, n)\n",
    "    successes = 0\n",
    "    \"\"\"\n",
    "    What i understood from the question, is we want to check how \n",
    "    many flips succeed.. by generating N flips with uniform\n",
    "    we would then check each \"number\" from the draw of uniform\n",
    "    if that number is less than p, it is considered a successful flip?\n",
    "    \n",
    "    \"\"\"\n",
    "    for flip in draw: successes += 1 if flip < p else 0\n",
    "    return successes\n",
    "    \n",
    "binomial_rv(6, 0.7)"
   ]
  },
  {
   "cell_type": "code",
   "execution_count": null,
   "metadata": {},
   "outputs": [],
   "source": []
  },
  {
   "cell_type": "code",
   "execution_count": null,
   "metadata": {},
   "outputs": [],
   "source": []
  }
 ],
 "metadata": {
  "file_extension": ".py",
  "kernelspec": {
   "display_name": "Python 3.7.7 64-bit",
   "language": "python",
   "name": "python37764bit0e4fbe78d6c245a3b5eae0ec2218107d"
  },
  "language_info": {
   "codemirror_mode": {
    "name": "ipython",
    "version": 3
   },
   "file_extension": ".py",
   "mimetype": "text/x-python",
   "name": "python",
   "nbconvert_exporter": "python",
   "pygments_lexer": "ipython3",
   "version": "3.7.7rc1"
  },
  "mimetype": "text/x-python",
  "name": "python",
  "npconvert_exporter": "python",
  "pygments_lexer": "ipython3",
  "version": 3
 },
 "nbformat": 4,
 "nbformat_minor": 2
}

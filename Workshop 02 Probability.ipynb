{
 "cells": [
  {
   "cell_type": "markdown",
   "metadata": {},
   "source": [
    "# Warmup: Count to 50\n",
    "\n",
    "Use a RNG to generate rolls of a 12-sided die. \n",
    "Write a function that counts the number of rolls taken until the total of the rolls totals 50 or more.\n",
    "\n",
    "```\n",
    "rollto50() -> 5\n",
    "rollto50() -> 6\n",
    "```"
   ]
  },
  {
   "cell_type": "code",
   "execution_count": 332,
   "metadata": {},
   "outputs": [
    {
     "data": {
      "text/plain": [
       "9"
      ]
     },
     "execution_count": 332,
     "metadata": {},
     "output_type": "execute_result"
    }
   ],
   "source": [
    "import random\n",
    "\n",
    "def rollto50():\n",
    "    '''\n",
    "    Function that counts the number of rolls taken until the sum of the numbers obtained for each roll reaches 50 or more.\n",
    "    '''\n",
    "    sum_die_nums = 0\n",
    "    count = 0\n",
    "    while sum_die_nums < 50:\n",
    "        randnum = random.randint(1,12)\n",
    "        sum_die_nums += randnum\n",
    "        count+=1\n",
    "    return count\n",
    "\n",
    "#Test\n",
    "rollto50()"
   ]
  },
  {
   "cell_type": "markdown",
   "metadata": {},
   "source": [
    "# Problem 1: Monte Carlo Sampling\n",
    "\n",
    "Data Scientists are often lazy. Instead of calculating the exact probability of complex events, we simulate samples with a RNG and average the results. This is called **Monte Carlo Sampling** after the casino in Monaco (yes, really).\n",
    "\n",
    "Write a function `monte_carlo_dice(n)` that given a 6-sided die, rolls it $n$ times and averages the result.\n",
    "\n",
    "The result should get closer to the true expected value (3.5) as $n$ increases:\n",
    "\n",
    "```\n",
    "n: 100 Trial average 3.39 \n",
    "n: 1000 Trial average 3.576 \n",
    "n: 10000 Trial average 3.5054 \n",
    "n: 100000 Trial average 3.50201 \n",
    "n: 500000 Trial average 3.495568\n",
    "```"
   ]
  },
  {
   "cell_type": "code",
   "execution_count": 329,
   "metadata": {},
   "outputs": [
    {
     "name": "stdout",
     "output_type": "stream",
     "text": [
      "n: 10000 Trial average 3.5166\n"
     ]
    }
   ],
   "source": [
    "def monte_carlo_dice(n):\n",
    "    '''\n",
    "    Function that calculates the average of the numbers rolled \"n\" times with a 6-sided die.\n",
    "    '''\n",
    "    \n",
    "    sum_randNums = 0\n",
    "    for _ in range(n):\n",
    "        sum_randNums += random.randint(1,6)\n",
    "    average = sum_randNums/n\n",
    "    print(f\"n: {n} Trial average {average}\")\n",
    "    \n",
    "#Test\n",
    "monte_carlo_dice(10000)"
   ]
  },
  {
   "cell_type": "markdown",
   "metadata": {},
   "source": [
    "# 2: Estimating the Area of a Circle\n",
    "\n",
    "Consider a dartboard with a circle of radius $r$ inscribed in a square with side $2r$. Now let’s say you start throwing a large number of darts at it. \n",
    "\n",
    "Some of these will hit the board within the circle—let’s say, $N$—and others out-side it—let’s say, $M$. If we consider the fraction of darts that land inside the circle:\n",
    "\n",
    "$$f = \\dfrac{N}{N + M}$$\n",
    "\n",
    "Then the value of $f * A$ with $A$ being the area of the square will approximate the actual area of the circle (which is  $\\pi 2 r$)\n",
    "\n",
    "<img src=\"Circle Target.png\" style=\"width: 200px;\">\n",
    "\n",
    "Write a function `circle_estimate(radius, trials)` which will estimate the area of a circle by throwing `trials` random darts at the square.\n",
    "\n",
    "\n",
    "\n",
    "```\n",
    "Radius: 2\n",
    "Area: 12.566370614359172, Estimated (1000 darts): 12.576\n",
    "Area: 12.566370614359172, Estimated (100000 darts): 12.58176\n",
    "Area: 12.566370614359172, Estimated (1000000 darts): 12.560128\n",
    "```\n",
    "\n",
    "**Hint:** Generate 2 random numbers for each dart throw, one for the `x` axis and one for the `y` axis. Use the [Pythagorean Theorem](https://en.wikipedia.org/wiki/Pythagorean_theorem) find if it's outside the circle"
   ]
  },
  {
   "cell_type": "code",
   "execution_count": 335,
   "metadata": {},
   "outputs": [
    {
     "name": "stdout",
     "output_type": "stream",
     "text": [
      "Radius: 5\n",
      "Area:78.53981633974483, Estimated (100000 darts): 78.392\n"
     ]
    }
   ],
   "source": [
    "import math\n",
    "\n",
    "def circle_estimate(radius, trials):\n",
    "    '''\n",
    "    Function that estimates the area of a circle for a given radius.\n",
    "    '''\n",
    "    N = 0\n",
    "    M = 0\n",
    "    for _ in range(trials):\n",
    "        x = random.uniform(-radius, radius)\n",
    "        y = random.uniform(-radius, radius)\n",
    "        xy_radius = math.sqrt(x**2+y**2)\n",
    "        if xy_radius <= radius:\n",
    "            N += 1\n",
    "        else:\n",
    "            M += 1\n",
    "    f = N/(N+M)\n",
    "    estimated_circle_area = f*(2*radius)**2\n",
    "    circle_area = math.pi*radius**2\n",
    "    print(f\"Radius: {radius}\\nArea:{circle_area}, Estimated ({trials} darts): {estimated_circle_area}\")\n",
    "    \n",
    "#Test\n",
    "circle_estimate(5, 100000)"
   ]
  },
  {
   "cell_type": "markdown",
   "metadata": {},
   "source": [
    "# 3: Binomial distribution\n",
    "\n",
    "The [binomial random variable](https://en.wikipedia.org/wiki/Binomial_distribution) $ Y \\sim Bin(n, p) $ represents the number of successes in $ n $ coin flips, where each trial succeeds with probability $ p $.\n",
    "\n",
    "Without any import besides `from numpy.random import uniform`, write a function\n",
    "`binomial_rv` such that `binomial_rv(n, p)` generates one draw of $ Y $.\n",
    "\n",
    "Hint: If $ U $ is uniform on $ (0, 1) $ and $ p \\in (0,1) $, then the expression `U < p` evaluates to `True` with probability $ p $."
   ]
  },
  {
   "cell_type": "code",
   "execution_count": 331,
   "metadata": {},
   "outputs": [
    {
     "data": {
      "text/plain": [
       "5"
      ]
     },
     "execution_count": 331,
     "metadata": {},
     "output_type": "execute_result"
    }
   ],
   "source": [
    "from numpy.random import uniform \n",
    "\n",
    "def binomial_rv(n, p):\n",
    "    '''\n",
    "    Function that returns the number of successes in \"n\" trials.\n",
    "    '''\n",
    "    num_success = 0\n",
    "\n",
    "    for _ in range(n):\n",
    "        rand_num = uniform()\n",
    "        if rand_num <= p:\n",
    "            num_success +=1\n",
    "    return num_success   \n",
    "\n",
    "#Test\n",
    "binomial_rv(10, 0.5)"
   ]
  }
 ],
 "metadata": {
  "file_extension": ".py",
  "kernelspec": {
   "display_name": "Python 3",
   "language": "python",
   "name": "python3"
  },
  "language_info": {
   "codemirror_mode": {
    "name": "ipython",
    "version": 3
   },
   "file_extension": ".py",
   "mimetype": "text/x-python",
   "name": "python",
   "nbconvert_exporter": "python",
   "pygments_lexer": "ipython3",
   "version": "3.8.3"
  },
  "mimetype": "text/x-python",
  "name": "python",
  "npconvert_exporter": "python",
  "pygments_lexer": "ipython3",
  "version": 3
 },
 "nbformat": 4,
 "nbformat_minor": 2
}

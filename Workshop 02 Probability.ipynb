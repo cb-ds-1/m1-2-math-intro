{
 "cells": [
  {
   "cell_type": "markdown",
   "metadata": {},
   "source": [
    "# Warmup: Count to 50\n",
    "\n",
    "Use a RNG to generate rolls of a 12-sided die. \n",
    "Write a function that counts the number of rolls taken until the total of the rolls totals 50 or more.\n",
    "\n",
    "```\n",
    "rollto50() -> 5\n",
    "rollto50() -> 6\n",
    "```"
   ]
  },
  {
   "cell_type": "markdown",
   "metadata": {},
   "source": [
    "# Problem 1: Monte Carlo Sampling\n",
    "\n",
    "Data Scientists are often lazy. Instead of calculating the exact probability of complex events, we simulate samples with a RNG and average the results. This is called **Monte Carlo Sampling** after the casino in Monaco (yes, really).\n",
    "\n",
    "Write a function `monte_carlo_dice(n)` that given a 6-sided die, rolls it $n$ times and averages the result.\n",
    "\n",
    "The result should get closer to the true expected value (3.5) as $n$ increases:\n",
    "\n",
    "```\n",
    "n: 100 Trial average 3.39 \n",
    "n: 1000 Trial average 3.576 \n",
    "n: 10000 Trial average 3.5054 \n",
    "n: 100000 Trial average 3.50201 \n",
    "n: 500000 Trial average 3.495568\n",
    "```"
   ]
  },
  {
   "cell_type": "code",
   "execution_count": 10,
   "metadata": {},
   "outputs": [
    {
     "data": {
      "text/plain": [
       "3.497476"
      ]
     },
     "execution_count": 10,
     "metadata": {},
     "output_type": "execute_result"
    }
   ],
   "source": [
    "# Problem 1: MONTE CARLO SAMPLING\n",
    "from random import seed\n",
    "from random import random\n",
    "from random import choice\n",
    "\n",
    "seed(1)\n",
    "seed(1)\n",
    "\n",
    "def monte_carlo_dice(n):\n",
    "    events = []\n",
    "    sequence = [i for i in range(1, 7)]\n",
    "  #print(sequence)\n",
    "\n",
    "  # make choices from the sequence\n",
    "    for _ in range(n):\n",
    "        selection = choice(sequence)\n",
    "        #print(selection)\n",
    "        events.append(selection)\n",
    "  #print(events)\n",
    "  #print(sum(events))\n",
    "    total_event_sum = sum(events)\n",
    "    sample_expected_value = total_event_sum/n\n",
    "    return sample_expected_value\n",
    "\n",
    "monte_carlo_dice(500000) # should approach 3.5 as n gets bigger"
   ]
  },
  {
   "cell_type": "markdown",
   "metadata": {},
   "source": [
    "# 2: Estimating the Area of a Circle\n",
    "\n",
    "Consider a dartboard with a circle of radius $r$ inscribed in a square with side $2r$. Now let’s say you start throwing a large number of darts at it. \n",
    "\n",
    "Some of these will hit the board within the circle—let’s say, $N$—and others out-side it—let’s say, $M$. If we consider the fraction of darts that land inside the circle:\n",
    "\n",
    "$$f = \\dfrac{N}{N + M}$$\n",
    "\n",
    "Then the value of $f * A$ with $A$ being the area of the square will approximate the actual area of the circle (which is  $\\pi r^2$)\n",
    "\n",
    "<img src=\"Circle Target.png\" style=\"width: 200px;\">\n",
    "\n",
    "Write a function `circle_estimate(radius, trials)` which will estimate the area of a circle by throwing `trials` random darts at the square.\n",
    "\n",
    "\n",
    "\n",
    "```\n",
    "Radius: 2\n",
    "Area: 12.566370614359172, Estimated (1000 darts): 12.576\n",
    "Area: 12.566370614359172, Estimated (100000 darts): 12.58176\n",
    "Area: 12.566370614359172, Estimated (1000000 darts): 12.560128\n",
    "```\n",
    "\n",
    "**Hint:** Generate 2 random numbers for each dart throw, one for the `x` axis and one for the `y` axis. Use the [Pythagorean Theorem](https://en.wikipedia.org/wiki/Pythagorean_theorem) find if it's outside the circle"
   ]
  },
  {
   "cell_type": "code",
   "execution_count": 40,
   "metadata": {},
   "outputs": [
    {
     "name": "stdout",
     "output_type": "stream",
     "text": [
      "[0]\n",
      "12.566370614359172\n",
      "16\n",
      "0.7853981633974483\n",
      "[12.566370614359172, 12.566370614359172, 12.566370614359172, 12.566370614359172, 12.566370614359172]\n"
     ]
    }
   ],
   "source": [
    "# Problem 2: ESTIMATING THE AREA OF A CIRCLE\n",
    "# BY THROWING RANDOM DARTS AT THE SQUARE\n",
    "# Why don't I get \"running_estimate\" in my answer?\n",
    "\n",
    "import numpy as np\n",
    "import math\n",
    "import random\n",
    "from random import seed\n",
    "from random import random\n",
    "\n",
    "def circle_estimate(r, N): # r = radius, N = trials\n",
    "    dart_positions = 4 * np.random.rand(N, 2) - 2  # generates numbers between [-2, 2] in x,y axis\n",
    "    Ncircle = [0] # start the count with 0 to make our loop-logic easier\n",
    "    print(Ncircle)\n",
    "    \n",
    "    for x,y in dart_positions:\n",
    "        if np.sqrt(x**2 + y**2) < 4: #r**2\n",
    "            Ncircle.append(Ncircle[-1] + 1) # another dart has fallen in the circle\n",
    "        else:\n",
    "            Ncircle.append(Ncircle[-1])  # the dart fell outside of the circle - Ncircle is unchanged\n",
    "        \n",
    "    #Values to guide me\n",
    "    running_estimate = []\n",
    "    c = math.pi * r**2 #total area of circle\n",
    "    print(c)\n",
    "    m = (2*r)**2 #total area of square\n",
    "    print(m)\n",
    "    f = (c/m)\n",
    "    print(f)\n",
    "    final = f * m\n",
    "    #print(final)\n",
    "        \n",
    "    for n_total, n_circle in enumerate(Ncircle[1:]): # skip the inital 0-count\n",
    "        # n_total starts at 0, so we need to add 1\n",
    "        running_estimate.append(f*m)\n",
    "    \n",
    "    return running_estimate\n",
    "\n",
    "print(circle_estimate(2, 5))\n"
   ]
  },
  {
   "cell_type": "markdown",
   "metadata": {},
   "source": [
    "# 3: Binomial distribution\n",
    "\n",
    "The [binomial random variable](https://en.wikipedia.org/wiki/Binomial_distribution) $ Y \\sim Bin(n, p) $ represents the number of successes in $ n $ coin flips, where each trial succeeds with probability $ p $.\n",
    "\n",
    "Without any import besides `from numpy.random import uniform`, write a function\n",
    "`binomial_rv` such that `binomial_rv(n, p)` generates one draw of $ Y $.\n",
    "\n",
    "Hint: If $ U $ is uniform on $ (0, 1) $ and $ p \\in (0,1) $, then the expression `U < p` evaluates to `True` with probability $ p $."
   ]
  },
  {
   "cell_type": "code",
   "execution_count": 47,
   "metadata": {},
   "outputs": [
    {
     "ename": "SyntaxError",
     "evalue": "invalid syntax (<ipython-input-47-2c19a43cdda7>, line 15)",
     "output_type": "error",
     "traceback": [
      "\u001b[0;36m  File \u001b[0;32m\"<ipython-input-47-2c19a43cdda7>\"\u001b[0;36m, line \u001b[0;32m15\u001b[0m\n\u001b[0;31m    If U < p:\u001b[0m\n\u001b[0m       ^\u001b[0m\n\u001b[0;31mSyntaxError\u001b[0m\u001b[0;31m:\u001b[0m invalid syntax\n"
     ]
    }
   ],
   "source": [
    "import numpy\n",
    "from numpy import random\n",
    "from random import uniform\n",
    "\n",
    "#def binomial_rv(n, p):\n",
    "    \n",
    "    \n",
    "\n",
    "# n = coin flips\n",
    "# p = probabbility \n",
    "\n",
    "from numpy import random\n",
    "x = random.binomial(n=10, p=0.5, size=10)\n",
    "\n",
    "If U < p:\n",
    "    return True\n",
    "Return False\n",
    "\n",
    "print(x)\n",
    "    \n",
    "    \n",
    "    "
   ]
  },
  {
   "cell_type": "code",
   "execution_count": null,
   "metadata": {},
   "outputs": [],
   "source": []
  }
 ],
 "metadata": {
  "file_extension": ".py",
  "kernelspec": {
   "display_name": "Python 3",
   "language": "python",
   "name": "python3"
  },
  "language_info": {
   "codemirror_mode": {
    "name": "ipython",
    "version": 3
   },
   "file_extension": ".py",
   "mimetype": "text/x-python",
   "name": "python",
   "nbconvert_exporter": "python",
   "pygments_lexer": "ipython3",
   "version": "3.8.3"
  },
  "mimetype": "text/x-python",
  "name": "python",
  "npconvert_exporter": "python",
  "pygments_lexer": "ipython3",
  "version": 3
 },
 "nbformat": 4,
 "nbformat_minor": 2
}

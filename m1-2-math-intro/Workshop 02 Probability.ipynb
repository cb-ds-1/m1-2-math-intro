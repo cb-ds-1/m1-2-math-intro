{
 "cells": [
  {
   "cell_type": "markdown",
   "metadata": {},
   "source": [
    "# Warmup: Count to 50\n",
    "\n",
    "Use a RNG to generate rolls of a 12-sided die. \n",
    "Write a function that counts the number of rolls taken until the total of the rolls totals 50 or more.\n",
    "\n",
    "```\n",
    "rollto50() -> 5\n",
    "rollto50() -> 6\n",
    "```"
   ]
  },
  {
   "cell_type": "code",
   "execution_count": 5,
   "metadata": {},
   "outputs": [
    {
     "data": {
      "text/plain": [
       "8"
      ]
     },
     "execution_count": 5,
     "metadata": {},
     "output_type": "execute_result"
    }
   ],
   "source": [
    "import numpy as np \n",
    "import random\n",
    "\n",
    "def rollto50():\n",
    "    \"\"\"empty result list. Range # of die sides (inclusive). \n",
    "    While sum of the list is < desired total. Append roll amt.\n",
    "    Once 50 or more is reached. Print length of list to get # of rolls\"\"\"\n",
    "    res = []\n",
    "    for x in range(1,13):\n",
    "        while sum(res) <50:\n",
    "            res.append(np.random.randint(1,13))\n",
    "    return len(res)\n",
    "\n",
    "rollto50()"
   ]
  },
  {
   "cell_type": "markdown",
   "metadata": {},
   "source": [
    "# Problem 1: Monte Carlo Sampling\n",
    "\n",
    "Data Scientists are often lazy. Instead of calculating the exact probability of complex events, we simulate samples with a RNG and average the results. This is called **Monte Carlo Sampling** after the casino in Monaco (yes, really).\n",
    "\n",
    "Write a function `monte_carlo_dice(n)` that given a 6-sided die, rolls it $n$ times and averages the result.\n",
    "\n",
    "The result should get closer to the true expected value (3.5) as $n$ increases:\n",
    "\n",
    "```\n",
    "n: 100 Trial average 3.39 \n",
    "n: 1000 Trial average 3.576 \n",
    "n: 10000 Trial average 3.5054 \n",
    "n: 100000 Trial average 3.50201 \n",
    "n: 500000 Trial average 3.495568\n",
    "```"
   ]
  },
  {
   "cell_type": "code",
   "execution_count": 9,
   "metadata": {
    "scrolled": true
   },
   "outputs": [
    {
     "data": {
      "text/plain": [
       "3.49264"
      ]
     },
     "execution_count": 9,
     "metadata": {},
     "output_type": "execute_result"
    }
   ],
   "source": [
    "import numpy as np\n",
    "import random\n",
    "def monte_carlo_dice(n):\n",
    "    \"\"\"Empty list with roll results. for each roll in the range(inclusive)\n",
    "    we append random die roll (depending on # of sides) to empty list.\n",
    "    Empty list will have n elements with values depending on # of die sides\n",
    "    then get avg by summing list and dividing by rolls\"\"\"\n",
    "    roll_results = [] #New empty list with each roll\n",
    "    for roll in range(n+1): #Roll in range+1 because we include 100\n",
    "        #Append to new list a random num 1-6 for the range of dice throws \n",
    "        roll_results.append(np.random.randint(1,7))\n",
    "        #Sum results that appended to the list and divide by n. Get avg\n",
    "    return sum(roll_results)/n\n",
    "\n",
    "monte_carlo_dice(100000)"
   ]
  },
  {
   "cell_type": "markdown",
   "metadata": {},
   "source": [
    "# 2: Estimating the Area of a Circle\n",
    "\n",
    "Consider a dartboard with a circle of radius $r$ inscribed in a square with side $2r$. Now let’s say you start throwing a large number of darts at it. \n",
    "\n",
    "Some of these will hit the board within the circle—let’s say, $N$—and others out-side it—let’s say, $M$. If we consider the fraction of darts that land inside the circle:\n",
    "\n",
    "$$f = \\dfrac{N}{N + M}$$\n",
    "\n",
    "Then the value of $f * A$ with $A$ being the area of the square will approximate the actual area of the circle (which is  $\\pi 2 r$)\n",
    "\n",
    "<img src=\"Circle Target.png\" style=\"width: 200px;\">\n",
    "\n",
    "Write a function `circle_estimate(radius, trials)` which will estimate the area of a circle by throwing `trials` random darts at the square.\n",
    "\n",
    "\n",
    "\n",
    "```\n",
    "Radius: 2\n",
    "Area: 12.566370614359172, Estimated (1000 darts): 12.576\n",
    "Area: 12.566370614359172, Estimated (100000 darts): 12.58176\n",
    "Area: 12.566370614359172, Estimated (1000000 darts): 12.560128\n",
    "```\n",
    "\n",
    "**Hint:** Generate 2 random numbers for each dart throw, one for the `x` axis and one for the `y` axis. Use the [Pythagorean Theorem](https://en.wikipedia.org/wiki/Pythagorean_theorem) find if it's outside the circle"
   ]
  },
  {
   "cell_type": "code",
   "execution_count": 284,
   "metadata": {},
   "outputs": [
    {
     "data": {
      "text/plain": [
       "12.368"
      ]
     },
     "execution_count": 284,
     "metadata": {},
     "output_type": "execute_result"
    }
   ],
   "source": [
    "import math\n",
    "\n",
    "def cirle_estimate(radius, trials):\n",
    "    \"\"\"generate random in for x, y pairs with the limits being the -+r\n",
    "    then, with Pythagorean theorem find c by using the random (x, y). \n",
    "    We know that if x = 1.8, it is 1.8 above 0 so x**2 = 1.8**. Same with Y\n",
    "    Important to mind that c < radius to have landed within circle.\n",
    "    To get hit ratio or f = N/N+M, N=all darts within circle and N+M= total tries and add\n",
    "    to in_circ. Get area of square with A = a**2, a = 2r. Estimate circle\n",
    "    area by multiplying f with A...hit ratio by sqr area\"\"\"\n",
    "    in_circ = 0\n",
    "    for trial in range(trials):\n",
    "        random_x = random.uniform(-radius,radius) #random dart x axis\n",
    "        random_y = random.uniform(-radius,radius)\n",
    "        c_sqr = (random_x ** 2) + (random_y ** 2)#Pythagorean theorem\n",
    "        outcome = math.sqrt(c_sqr) #sqrt of c\n",
    "        if outcome < radius: \n",
    "            in_circ += 1\n",
    "    hit_ratio = in_circ/trials \n",
    "    total_area_sq = (2*radius)**2\n",
    "    return hit_ratio * total_area_sq \n",
    "cirle_estimate(2, 1000)"
   ]
  },
  {
   "cell_type": "markdown",
   "metadata": {},
   "source": [
    "# 3: Binomial distribution\n",
    "\n",
    "The [binomial random variable](https://en.wikipedia.org/wiki/Binomial_distribution) $ Y \\sim Bin(n, p) $ represents the number of successes in $ n $ coin flips, where each trial succeeds with probability $ p $.\n",
    "\n",
    "Without any import besides `from numpy.random import uniform`, write a function\n",
    "`binomial_rv` such that `binomial_rv(n, p)` generates one draw of $ Y $.\n",
    "\n",
    "Hint: If $ U $ is uniform on $ (0, 1) $ and $ p \\in (0,1) $, then the expression `U < p` evaluates to `True` with probability $ p $."
   ]
  },
  {
   "cell_type": "code",
   "execution_count": 29,
   "metadata": {},
   "outputs": [
    {
     "data": {
      "text/plain": [
       "7"
      ]
     },
     "execution_count": 29,
     "metadata": {},
     "output_type": "execute_result"
    }
   ],
   "source": [
    "from numpy.random import random\n",
    "\n",
    "def binomial_rv(n, p):\n",
    "    \"\"\"n is number of successes in coin flip and p is the probability. \n",
    "    50% because coins are two sided. Draws are in range of n or # of draws. Add one\n",
    "    to counter list (res) if value is = or > .5 to count numbers of heads or tails and return res\"\"\"\n",
    "    res = 0 \n",
    "    for draw in range(n):\n",
    "        flip = random()\n",
    "        if flip >= 0.5:\n",
    "            res += 1\n",
    "    return res\n",
    "binomial_rv(10, 0.50)"
   ]
  },
  {
   "cell_type": "code",
   "execution_count": null,
   "metadata": {},
   "outputs": [],
   "source": []
  },
  {
   "cell_type": "code",
   "execution_count": null,
   "metadata": {},
   "outputs": [],
   "source": []
  }
 ],
 "metadata": {
  "file_extension": ".py",
  "kernelspec": {
   "display_name": "Python 3",
   "language": "python",
   "name": "python3"
  },
  "language_info": {
   "codemirror_mode": {
    "name": "ipython",
    "version": 3
   },
   "file_extension": ".py",
   "mimetype": "text/x-python",
   "name": "python",
   "nbconvert_exporter": "python",
   "pygments_lexer": "ipython3",
   "version": "3.8.3"
  },
  "mimetype": "text/x-python",
  "name": "python",
  "npconvert_exporter": "python",
  "pygments_lexer": "ipython3",
  "version": 3
 },
 "nbformat": 4,
 "nbformat_minor": 2
}

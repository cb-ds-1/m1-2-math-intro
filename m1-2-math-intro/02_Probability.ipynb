{
 "cells": [
  {
   "cell_type": "markdown",
   "metadata": {},
   "source": [
    "# Intro to Probability\n",
    "\n",
    "### Experiment    \n",
    "\n",
    "The experiment is simply the test we want to perform. We perform the test because we’re interested in the probability of each possible outcome. Rolling a die, flipping a coin, and pulling a card from a deck of cards are all examples of experiments. \n",
    "\n",
    "A single run of an exper-iment is referred to as a **trial**.\n",
    "\n",
    "### Sample space\n",
    "\n",
    "All possible outcomes of an experiment form a set known as the sample space, which we’ll usually call $S$ in our formulas. For example, when a six-sided die is rolled once, the sample space is `{1, 2, 3, 4, 5, 6}`. \n",
    "\n",
    "### Event \n",
    "An event is a set of outcomes that we want to calculate the prob-ability of and that form a subset of the sample space. For example, we might want to know the probability of a particular outcome, like rolling a 3, or the probability of a set of multiple outcomes, such as rolling an even number (either 2, 4, or 6). We’ll use the letter E in our formulas to stand for an event.\n",
    "\n",
    "\n",
    "----\n",
    "\n",
    "### Uniform distribution\n",
    "\n",
    "If each outcome in the sample space is equally likely to occur, we say the outcomes come from the **uniform distribution** (we'll see other distributions later on).\n",
    "\n",
    "In this case the probability of an event, $P(E)$, occurring is calculated using the following formula:\n",
    "\n",
    "$$P(E) = \\dfrac{|E|}{|S|}$$\n",
    "\n",
    "Remember that $|x|$ is the *cardinality* of a set $x$ in math, which is equivalent to `len(x)` in python.\n",
    "\n",
    "In code:"
   ]
  },
  {
   "cell_type": "code",
   "execution_count": null,
   "metadata": {},
   "outputs": [],
   "source": [
    "possible_events = {1,2,3,4,5,6}\n",
    "\n",
    "\n",
    "\n",
    "probabilities = [1/6] * 6\n",
    "\n"
   ]
  },
  {
   "cell_type": "code",
   "execution_count": 2,
   "metadata": {},
   "outputs": [],
   "source": [
    "def probability(space, event):    \n",
    "    return len(event) / len(space)\n",
    "#event is the number you are looking at while space is the total anmount of number of things\n",
    "#so even is 2 while space is 1-6 on a dice"
   ]
  },
  {
   "cell_type": "markdown",
   "metadata": {},
   "source": [
    "So for the probability of rolling a number on a dice is:"
   ]
  },
  {
   "cell_type": "code",
   "execution_count": 3,
   "metadata": {},
   "outputs": [
    {
     "name": "stdout",
     "output_type": "stream",
     "text": [
      "0.16666666666666666\n",
      "0.3333333333333333\n"
     ]
    }
   ],
   "source": [
    "dice = [1, 2, 3, 4, 5, 6]\n",
    "\n",
    "# Probability or rolling a 1\n",
    "print(probability(dice, [1]))\n",
    "# Probability of rolling a 3 or a 4 on a dice\n",
    "print(probability(dice, [3, 4]))"
   ]
  },
  {
   "cell_type": "markdown",
   "metadata": {},
   "source": [
    "# Probability of multiple events\n",
    "\n",
    "The probability of ONE OF multiple events is the probability of the union of the possible events\n",
    "\n",
    "$$P(E) = \\dfrac{|E_1 \\cup E_2|}{|S|}$$\n",
    "\n",
    "So for the probability of a number being greater than 4 **or** being even, then the probability is: "
   ]
  },
  {
   "cell_type": "code",
   "execution_count": 9,
   "metadata": {},
   "outputs": [
    {
     "data": {
      "text/plain": [
       "0.9"
      ]
     },
     "execution_count": 9,
     "metadata": {},
     "output_type": "execute_result"
    }
   ],
   "source": [
    "def probability(space, *event): #means it's a list and we are unpacking everything into a list\n",
    "    events = [set(x) for x in event]\n",
    "    event_union = set.union(*events)\n",
    "    return len(event_union) / len(space)\n",
    "\n",
    "probability(\n",
    "    list(range(10)), #10 sided die with probability of even and second list prob of anything > 4\n",
    "    [0, 2, 4, 8, 10], \n",
    "    [4,5,6,7,8,9,10]  #takes what is in first list and adds what wasn't added in list to second list \n",
    ")                     #and then you add events and divide by number of occurence \n",
    "\n",
    "# P = [1,2]\n",
    "# P = [1, 2)-this is not including 2"
   ]
  },
  {
   "cell_type": "code",
   "execution_count": null,
   "metadata": {},
   "outputs": [],
   "source": [
    "### Exercise (2-5 min)\n",
    "# Rewrite the above function such that instead of being an OR operation it would be an AND operation\n",
    "# eg. it's the probability of the event happening from Event1 AND Event2\n",
    "\n",
    "\n",
    "\n",
    "def proba(space, *event):\n",
    "    events = [set(x) for x in event]\n",
    "    event_inter = set.intersection(*events)\n",
    "    #print(event_inter)\n",
    "    return len(event_inter) / len(space)\n",
    "\n",
    "proba(list(range(10)),\n",
    "      [0, 2, 4, 8, 10],\n",
    "      [4,5,6,7,8,9,10]\n",
    "      )                     \n"
   ]
  },
  {
   "cell_type": "markdown",
   "metadata": {},
   "source": [
    "The probability of ALL OF multiple events is the probability of the intersection of the possible events\n",
    "\n",
    "$$P(E) = \\dfrac{|E_1 \\cap E_2|}{|S|}$$\n",
    "\n",
    "# Generating Random Numbers\n",
    "\n",
    "Both `random` and `numpy.random` can generate random numbers for us. A random number generator is often called a **RNG**"
   ]
  },
  {
   "cell_type": "code",
   "execution_count": 20,
   "metadata": {},
   "outputs": [
    {
     "name": "stdout",
     "output_type": "stream",
     "text": [
      "5\n"
     ]
    },
    {
     "data": {
      "text/plain": [
       "3"
      ]
     },
     "execution_count": 20,
     "metadata": {},
     "output_type": "execute_result"
    }
   ],
   "source": [
    "import numpy as np\n",
    "import random\n",
    "\n",
    "print(np.random.randint(1, 6))\n",
    "random.randint(1, 6)"
   ]
  },
  {
   "cell_type": "code",
   "execution_count": null,
   "metadata": {},
   "outputs": [],
   "source": [
    "import numpy as np\n",
    "import random\n",
    "\n",
    "\n",
    "print(np.random.randint(1, 6))\n"
   ]
  },
  {
   "cell_type": "code",
   "execution_count": null,
   "metadata": {},
   "outputs": [],
   "source": []
  }
 ],
 "metadata": {
  "file_extension": ".py",
  "kernelspec": {
   "display_name": "Python 3.7.7 64-bit ('icbs': conda)",
   "name": "python37764biticbscondaf4d657c25dbb416bac6851c38201b968"
  },
  "language_info": {
   "codemirror_mode": {
    "name": "ipython",
    "version": 3
   },
   "name": "python",
   "version": "3.7.4-final"
  },
  "mimetype": "text/x-python",
  "name": "python",
  "npconvert_exporter": "python",
  "pygments_lexer": "ipython3",
  "version": 3
 },
 "nbformat": 4,
 "nbformat_minor": 2
}

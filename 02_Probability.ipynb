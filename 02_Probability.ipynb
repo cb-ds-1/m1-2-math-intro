{
 "nbformat": 4,
 "nbformat_minor": 2,
 "metadata": {
  "language_info": {
   "name": "python",
   "codemirror_mode": {
    "name": "ipython",
    "version": 3
   },
   "version": "3.8.3-final"
  },
  "orig_nbformat": 2,
  "file_extension": ".py",
  "mimetype": "text/x-python",
  "name": "python",
  "npconvert_exporter": "python",
  "pygments_lexer": "ipython3",
  "version": 3,
  "kernelspec": {
   "name": "Python 3.8.3 64-bit ('base': conda)",
   "display_name": "Python 3.8.3 64-bit ('base': conda)",
   "metadata": {
    "interpreter": {
     "hash": "6d46af94c2bbce495f1e668725902fa517c90b1782bcfe2fce0dd9868df553d3"
    }
   }
  }
 },
 "cells": [
  {
   "cell_type": "markdown",
   "metadata": {},
   "source": [
    "# Intro to Probability\n",
    "\n",
    "### Experiment    \n",
    "\n",
    "The experiment is simply the test we want to perform. We perform the test because we’re interested in the probability of each possible outcome. Rolling a die, flipping a coin, and pulling a card from a deck of cards are all examples of experiments. \n",
    "\n",
    "A single run of an exper-iment is referred to as a **trial**.\n",
    "\n",
    "### Sample space\n",
    "\n",
    "All possible outcomes of an experiment form a set known as the sample space, which we’ll usually call $S$ in our formulas. For example, when a six-sided die is rolled once, the sample space is `{1, 2, 3, 4, 5, 6}`. \n",
    "\n",
    "### Event \n",
    "An event is a set of outcomes that we want to calculate the prob-ability of and that form a subset of the sample space. For example, we might want to know the probability of a particular outcome, like rolling a 3, or the probability of a set of multiple outcomes, such as rolling an even number (either 2, 4, or 6). We’ll use the letter E in our formulas to stand for an event.\n",
    "\n",
    "\n",
    "----\n",
    "\n",
    "### Uniform distribution\n",
    "\n",
    "If each outcome in the sample space is equally likely to occur, we say the outcomes come from the **uniform distribution** (we'll see other distributions later on).\n",
    "\n",
    "In this case the probability of an event, $P(E)$, occurring is calculated using the following formula:\n",
    "\n",
    "$$P(E) = \\dfrac{|E|}{|S|}$$\n",
    "\n",
    "Remember that $|x|$ is the *cardinality* of a set $x$ in math, which is equivalent to `len(x)` in python.\n",
    "\n",
    "In code:"
   ]
  },
  {
   "cell_type": "code",
   "execution_count": 2,
   "metadata": {},
   "outputs": [],
   "source": [
    "def probability(space, event):    \n",
    "    return len(event) / len(space)"
   ]
  },
  {
   "cell_type": "markdown",
   "metadata": {},
   "source": [
    "So for the probability of rolling a number on a dice is:"
   ]
  },
  {
   "cell_type": "code",
   "execution_count": 3,
   "metadata": {},
   "outputs": [
    {
     "output_type": "stream",
     "name": "stdout",
     "text": "0.16666666666666666\n0.3333333333333333\n"
    }
   ],
   "source": [
    "dice = [1, 2, 3, 4, 5, 6]\n",
    "\n",
    "# Probability or rolling a 1\n",
    "print(probability(dice, [1]))\n",
    "# Probability of rolling a 3 or a 4 on a dice\n",
    "print(probability(dice, [3, 4]))"
   ]
  },
  {
   "cell_type": "markdown",
   "metadata": {},
   "source": [
    "# Probability of multiple events\n",
    "\n",
    "The probability of ONE OF multiple events is the probability of the union of the possible events\n",
    "\n",
    "$$P(E) = \\dfrac{|E_1 \\cup E_2|}{|S|}$$\n",
    "\n",
    "So for the probability of a number being greater than 4 **or** being even, then the probability is: "
   ]
  },
  {
   "cell_type": "code",
   "execution_count": 9,
   "metadata": {},
   "outputs": [
    {
     "output_type": "execute_result",
     "data": {
      "text/plain": "0.9"
     },
     "metadata": {},
     "execution_count": 9
    }
   ],
   "source": [
    "def probability(space, *event):\n",
    "    events = [set(x) for x in event]\n",
    "    event_union = set.union(*events)\n",
    "    return len(event_union) / len(space)\n",
    "\n",
    "probability(\n",
    "    list(range(10)), \n",
    "    [0, 2, 4, 8, 10], \n",
    "    [4,5,6,7,8,9,10]\n",
    ")"
   ]
  },
  {
   "cell_type": "code",
   "execution_count": null,
   "metadata": {},
   "outputs": [],
   "source": [
    "### Exercise (2-5 min)\n",
    "# Rewrite the above function such that instead of being an OR operation it would be an AND operation\n",
    "# eg. it's the probability of the event happening from Event1 AND Event2"
   ]
  },
  {
   "cell_type": "code",
   "execution_count": 2,
   "metadata": {},
   "outputs": [
    {
     "output_type": "execute_result",
     "data": {
      "text/plain": [
       "0.3"
      ]
     },
     "metadata": {},
     "execution_count": 2
    }
   ],
   "source": [
    "def probability(space, *event):\n",
    "    events = [set(x) for x in event]\n",
    "    event_intsc = set.intersection(*events)\n",
    "    return len(event_intsc) / len(space)\n",
    "\n",
    "probability(\n",
    "    list(range(10)), \n",
    "    [0, 2, 4, 8, 10], \n",
    "    [4,5,6,7,8,9,10]\n",
    ")"
   ]
  },
  {
   "cell_type": "markdown",
   "metadata": {},
   "source": [
    "The probability of ALL OF multiple events is the probability of the intersection of the possible events\n",
    "\n",
    "$$P(E) = \\dfrac{|E_1 \\cap E_2|}{|S|}$$\n",
    "\n",
    "# Generating Random Numbers\n",
    "\n",
    "Both `random` and `numpy.random` can generate random numbers for us. A random number generator is often called a **RNG**"
   ]
  },
  {
   "cell_type": "code",
   "execution_count": 20,
   "metadata": {},
   "outputs": [
    {
     "output_type": "stream",
     "name": "stdout",
     "text": "5\n"
    },
    {
     "output_type": "execute_result",
     "data": {
      "text/plain": "3"
     },
     "metadata": {},
     "execution_count": 20
    }
   ],
   "source": [
    "import numpy as np\n",
    "import random\n",
    "\n",
    "print(np.random.randint(1, 6))\n",
    "random.randint(1, 6)"
   ]
  },
  {
   "cell_type": "code",
   "execution_count": null,
   "metadata": {},
   "outputs": [],
   "source": []
  }
 ]
}
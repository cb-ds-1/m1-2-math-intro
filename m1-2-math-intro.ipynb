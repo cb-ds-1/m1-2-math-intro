{
 "cells": [
  {
   "cell_type": "code",
   "execution_count": 1,
   "metadata": {},
   "outputs": [
    {
     "data": {
      "text/plain": [
       "'true'"
      ]
     },
     "execution_count": 1,
     "metadata": {},
     "output_type": "execute_result"
    }
   ],
   "source": [
    "# Sets must be non-repeating\n",
    "\n",
    "def common_elements(set1,set2):\n",
    "     set3= set1.intersection(set2)\n",
    "     if(set3 != 0): return \"true\"\n",
    "     else: return \"false\"        \n",
    "common_elements({1, 2, 3}, {'a', 1, 'hi!'})"
   ]
  },
  {
   "cell_type": "code",
   "execution_count": 2,
   "metadata": {},
   "outputs": [
    {
     "data": {
      "text/plain": [
       "{1, 2}"
      ]
     },
     "execution_count": 2,
     "metadata": {},
     "output_type": "execute_result"
    }
   ],
   "source": [
    "def common_elements(mylist):\n",
    "    \"\"\" mylist=[[1,2,3,4,5],[2,3,4,5,6],[3,4,5,6,7]]\"\"\"\n",
    "    c3= set.intersection(*(set(k) for k in mylist))\n",
    "    return(c3)\n",
    "common_elements([(1,2), [1,2,3], {1,2,4,5}])  \n",
    "   \n"
   ]
  },
  {
   "cell_type": "code",
   "execution_count": 3,
   "metadata": {},
   "outputs": [
    {
     "data": {
      "text/plain": [
       "14.192268951137288"
      ]
     },
     "execution_count": 3,
     "metadata": {},
     "output_type": "execute_result"
    }
   ],
   "source": [
    "import math\n",
    "g= 9.8\n",
    "def pendulum(l):\n",
    "    return 2 * math.pi * math.sqrt(l/g) \n",
    "pendulum(50)"
   ]
  },
  {
   "cell_type": "code",
   "execution_count": 8,
   "metadata": {},
   "outputs": [
    {
     "name": "stdout",
     "output_type": "stream",
     "text": [
      "[2, 4, 8, 16, 32, 64, 128, 256, 512, 1024, 2048, 4096, 8192, 16384, 32768, 65536, 131072, 262144, 524288, 1048576, 2097152, 4194304, 8388608, 16777216, 33554432, 67108864, 134217728, 268435456, 536870912, 1073741824, 2147483648, 4294967296, 8589934592, 17179869184, 34359738368, 68719476736, 137438953472, 274877906944, 549755813888, 1099511627776, 2199023255552, 4398046511104, 8796093022208, 17592186044416, 35184372088832, 70368744177664, 140737488355328, 281474976710656]\n"
     ]
    }
   ],
   "source": [
    "l1= [2**x for x in range(1, 50) if  2**x <562949953421312 ]\n",
    "print(l1)"
   ]
  },
  {
   "cell_type": "code",
   "execution_count": 2,
   "metadata": {},
   "outputs": [
    {
     "data": {
      "text/plain": [
       "'false'"
      ]
     },
     "execution_count": 2,
     "metadata": {},
     "output_type": "execute_result"
    }
   ],
   "source": [
    "def check_prime(t) :\n",
    "    count=0\n",
    "    res=\"true\" \n",
    "    for x in range(1, 9):\n",
    "        if (t % x == 0 and t!=1 and t!=x ): count=count+1\n",
    "    if count >1: res=\"false\"        \n",
    "    return res\n",
    "check_prime(10)"
   ]
  }
 ],
 "metadata": {
  "kernelspec": {
   "display_name": "Python 3",
   "language": "python",
   "name": "python3"
  },
  "language_info": {
   "codemirror_mode": {
    "name": "ipython",
    "version": 3
   },
   "file_extension": ".py",
   "mimetype": "text/x-python",
   "name": "python",
   "nbconvert_exporter": "python",
   "pygments_lexer": "ipython3",
   "version": "3.8.3"
  }
 },
 "nbformat": 4,
 "nbformat_minor": 4
}

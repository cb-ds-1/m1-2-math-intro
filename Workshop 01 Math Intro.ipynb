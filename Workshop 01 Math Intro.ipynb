{
 "cells": [
  {
   "cell_type": "markdown",
   "metadata": {},
   "source": [
    "# Warmup: common elements\n",
    "\n",
    "Write a one line function using set operations to check if two given sets have no elements in common. \n",
    "\n",
    "\n",
    "```\n",
    "common_elements({1, 2, 3}, {2}) -> True\n",
    "\n",
    "common_elements({1, 2, 3}, {'a', 'b', 'c'}) -> False\n",
    "\n",
    "common_elements({1, 2, 3}, {'a', 1, 'hi!'}) -> True\n",
    "```"
   ]
  },
  {
   "cell_type": "code",
   "execution_count": 24,
   "metadata": {},
   "outputs": [
    {
     "name": "stdout",
     "output_type": "stream",
     "text": [
      "[True, False, True]\n"
     ]
    }
   ],
   "source": [
    "def common_elements(set1, set2):\n",
    "    '''\n",
    "    Function to check if two given sets have no elements in common.\n",
    "    '''\n",
    "    return len(set1.intersection(set2))>0\n",
    "\n",
    "#Test\n",
    "tests = [\n",
    "    common_elements({1, 2, 3}, {2}),\n",
    "    common_elements({1, 2, 3}, {'a', 'b', 'c'}), \n",
    "    common_elements({1, 2, 3}, {'a', 1, 'hi!'}) \n",
    "       ]\n",
    "print(tests)"
   ]
  },
  {
   "cell_type": "markdown",
   "metadata": {},
   "source": [
    "# Common Elements 2\n",
    "\n",
    "Write a function that, given a list of containers of any type, returns a **list** with the common elements\n",
    "\n",
    "$$ result =  a_1 \\cap a_2 \\cap ... \\cap a_n $$\n",
    "\n",
    "```\n",
    "common_elements([(1,2), [1,2,3], {1,2,4,5}]) -> [1, 2]\n",
    "common_elements([(1,2), [3], {4,5}]) -> []\n",
    "common_elements([(1,2), [2, 3], [2, 3], [2,3]]) -> [2]\n",
    "```"
   ]
  },
  {
   "cell_type": "code",
   "execution_count": 31,
   "metadata": {},
   "outputs": [
    {
     "name": "stdout",
     "output_type": "stream",
     "text": [
      "[[1, 2], [], [2], [2]]\n"
     ]
    }
   ],
   "source": [
    "def common_elements(lst):\n",
    "    '''\n",
    "    Function that, given a list of containers of any type, returns a list with the common elements.\n",
    "    '''\n",
    "    common_elms = set(lst[0])\n",
    "    for i in range(1,len(lst),1):\n",
    "        common_elms = common_elms.intersection(set(lst[i]))\n",
    "    return list(common_elms)\n",
    "\n",
    "#Test\n",
    "test = [\n",
    "    common_elements([(1,2), [1,2,3], {1,2,4,5}]),\n",
    "    common_elements([(1,2), [3], {4,5}]),\n",
    "    common_elements([(1,2), [2, 3], [2, 3], [2,3]]),\n",
    "    common_elements([(1,2), [2, 3], [2, 3], [2,3], [5,2,1], [3,9,2]])\n",
    "]\n",
    "\n",
    "print(test)"
   ]
  },
  {
   "cell_type": "markdown",
   "metadata": {},
   "source": [
    "# Pendulum Formula\n",
    "\n",
    "Consider a pendulum of length $L$. The time period $T$ of this pendulum is the amount of time it takes for the pendulum to complete one full swing. The amount of time $T(L)$ given the length of a pendulum is given by the formula:\n",
    "\n",
    "$$T(L) = 2 \\pi \\sqrt{\\dfrac{L}{g}} $$\n",
    "\n",
    "Where $\\pi$ is the math constant *pi* and $g$ is the gravity on earth ($9.8 m/s$).\n",
    "\n",
    "Write a function $T(L)$ that returns the time for a given length in meters.\n",
    "\n",
    "```\n",
    "pendulum(5) -> 4.487989505128276\n",
    "pendulum(50) -> 14.192268951137288\n",
    "```\n",
    "\n",
    "\n",
    "**hint:** use `import numpy` or `import math` to get the square root function and the value of pi\n",
    "\n",
    "**hint:** since since $g$ is in $m / sec$ and $l$ is in $m$ and you return in $sec$, you can make the function very simple"
   ]
  },
  {
   "cell_type": "code",
   "execution_count": 26,
   "metadata": {},
   "outputs": [
    {
     "name": "stdout",
     "output_type": "stream",
     "text": [
      "[4.487989505128276, 14.192268951137288]\n"
     ]
    }
   ],
   "source": [
    "import math\n",
    "\n",
    "def pendulum(L):\n",
    "    '''\n",
    "    Function that calculates the amount of time it takes for a pendulum of length L to complete one full swing.\n",
    "    '''\n",
    "    g = 9.8\n",
    "    x = float(L)/g\n",
    "    T = 2.0*math.pi*math.sqrt(x)\n",
    "    return T\n",
    "\n",
    "#Test \n",
    "test = [\n",
    "    pendulum(5),\n",
    "    pendulum(50)\n",
    "]\n",
    "\n",
    "print(test)"
   ]
  },
  {
   "cell_type": "markdown",
   "metadata": {},
   "source": [
    "# Set Generation\n",
    "\n",
    "Use a one line python list comprehension to generate a list with the powers of 2 set:\n",
    "\n",
    "$$S = \\{x \\in 1, 2, 4, 8, 16, 32, 64, ... | x < 562949953421312 \\}$$\n",
    "\n"
   ]
  },
  {
   "cell_type": "code",
   "execution_count": 27,
   "metadata": {},
   "outputs": [
    {
     "name": "stdout",
     "output_type": "stream",
     "text": [
      "[1, 2, 4, 8, 16, 32, 64, 128, 256, 512, 1024, 2048, 4096, 8192, 16384, 32768, 65536, 131072, 262144, 524288, 1048576, 2097152, 4194304, 8388608, 16777216, 33554432, 67108864, 134217728, 268435456, 536870912, 1073741824, 2147483648, 4294967296, 8589934592, 17179869184, 34359738368, 68719476736, 137438953472, 274877906944, 549755813888, 1099511627776, 2199023255552, 4398046511104, 8796093022208, 17592186044416, 35184372088832, 70368744177664, 140737488355328, 281474976710656]\n"
     ]
    }
   ],
   "source": [
    "lst_power_2 = [2**x  for x in range(int(math.log(562949953421312)/math.log(2)))]\n",
    "print(lst_power_2)"
   ]
  },
  {
   "cell_type": "markdown",
   "metadata": {},
   "source": [
    "# Checking for Prime Numbers\n",
    "\n",
    "A [prime number](https://en.wikipedia.org/wiki/Prime_number) is a number that can only be divided by 1 and by itself. Write a function that takes in a positive integer and returns `True` if it's prime and `False` otherwise.\n",
    "\n",
    "```\n",
    "check_prime(5) -> True\n",
    "check_prime(13) -> True\n",
    "check_prime(9) -> 9\n",
    "check_prime(15) -> False\n",
    "```"
   ]
  },
  {
   "cell_type": "code",
   "execution_count": 28,
   "metadata": {
    "colab": {},
    "colab_type": "code",
    "id": "l4IdYSgyuwXb"
   },
   "outputs": [
    {
     "name": "stdout",
     "output_type": "stream",
     "text": [
      "[True, True, False, False]\n"
     ]
    }
   ],
   "source": [
    "def check_prime(num):\n",
    "    '''\n",
    "    Function that takes as an argument a positive integer and returns True if it's prime and false otherwise.\n",
    "    '''\n",
    "    if num ==2:\n",
    "        return True\n",
    "    elif num%2 == 0 or num<2 or type(num)==float:\n",
    "        return False\n",
    "    else:\n",
    "        x = int(math.ceil(math.sqrt(num)))\n",
    "        if x<=3:\n",
    "            upper_limit = num\n",
    "        else: \n",
    "            upper_limit = x\n",
    "            \n",
    "        for i in range(3,upper_limit,2):\n",
    "            if num%i == 0:\n",
    "                return False\n",
    "        return True\n",
    "            \n",
    "test = [\n",
    "    check_prime(5),\n",
    "    check_prime(19),\n",
    "    check_prime(9),\n",
    "    check_prime(15)\n",
    "]\n",
    "print(test)"
   ]
  },
  {
   "cell_type": "code",
   "execution_count": 29,
   "metadata": {},
   "outputs": [
    {
     "name": "stdout",
     "output_type": "stream",
     "text": [
      "i:0, prime:False\n",
      "i:1, prime:False\n",
      "i:2, prime:True\n",
      "i:3, prime:True\n",
      "i:4, prime:False\n",
      "i:5, prime:True\n",
      "i:6, prime:False\n",
      "i:7, prime:True\n",
      "i:8, prime:False\n",
      "i:9, prime:False\n",
      "i:10, prime:False\n",
      "i:11, prime:True\n",
      "i:12, prime:False\n",
      "i:13, prime:True\n",
      "i:14, prime:False\n",
      "i:15, prime:False\n",
      "i:16, prime:False\n",
      "i:17, prime:True\n",
      "i:18, prime:False\n",
      "i:19, prime:True\n",
      "i:20, prime:False\n",
      "i:21, prime:False\n",
      "i:22, prime:False\n",
      "i:23, prime:True\n",
      "i:24, prime:False\n"
     ]
    }
   ],
   "source": [
    "#Test\n",
    "for i in range(25):\n",
    "    print(f\"i:{i}, prime:{check_prime(i)}\")"
   ]
  }
 ],
 "metadata": {
  "colab": {
   "authorship_tag": "ABX9TyPmRY5kGt5p34lIAs/rfhTY",
   "collapsed_sections": [],
   "name": "Workshop Math Intro.ipynb",
   "provenance": []
  },
  "kernelspec": {
   "display_name": "Python 3",
   "language": "python",
   "name": "python3"
  },
  "language_info": {
   "codemirror_mode": {
    "name": "ipython",
    "version": 3
   },
   "file_extension": ".py",
   "mimetype": "text/x-python",
   "name": "python",
   "nbconvert_exporter": "python",
   "pygments_lexer": "ipython3",
   "version": "3.8.3"
  }
 },
 "nbformat": 4,
 "nbformat_minor": 1
}

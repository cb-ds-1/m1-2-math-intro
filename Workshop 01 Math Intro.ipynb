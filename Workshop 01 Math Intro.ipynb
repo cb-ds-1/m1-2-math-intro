{
 "cells": [
  {
   "cell_type": "markdown",
   "metadata": {},
   "source": [
    "# Warmup: common elements\n",
    "\n",
    "Write a one line function using set operations to check if two given sets have no elements in common. \n",
    "\n",
    "\n",
    "```\n",
    "common_elements({1, 2, 3}, {2}) -> True\n",
    "\n",
    "common_elements({1, 2, 3}, {'a', 'b', 'c'}) -> False\n",
    "\n",
    "common_elements({1, 2, 3}, {'a', 1, 'hi!'}) -> True\n",
    "```"
   ]
  },
  {
   "cell_type": "code",
   "execution_count": 12,
   "metadata": {},
   "outputs": [
    {
     "name": "stdout",
     "output_type": "stream",
     "text": [
      "True\n",
      "False\n",
      "True\n"
     ]
    }
   ],
   "source": [
    "def common_elements(x, y):\n",
    "    if set(x).intersection(set(y)):\n",
    "        return True\n",
    "    else:\n",
    "        return False\n",
    "    \n",
    "print(common_elements({1, 2, 3}, {2}))\n",
    "print(common_elements({1, 2, 3}, {'a', 'b', 'c'}))\n",
    "print(common_elements({1, 2, 3}, {'a', 1, 'hi!'}))"
   ]
  },
  {
   "cell_type": "markdown",
   "metadata": {},
   "source": [
    "# Common Elements 2\n",
    "\n",
    "Write a function that, given a list of containers of any type, returns a **list** with the common elements\n",
    "\n",
    "$$ result =  a_1 \\cap a_2 \\cap ... \\cap a_n $$\n",
    "\n",
    "```\n",
    "common_elements([(1,2), [1,2,3], {1,2,4,5}]) -> [1, 2]\n",
    "common_elements([(1,2), [3], {4,5}]) -> []\n",
    "common_elements([(1,2), [2, 3], [2, 3], [2,3]]) -> [2]\n",
    "```"
   ]
  },
  {
   "cell_type": "code",
   "execution_count": 38,
   "metadata": {},
   "outputs": [
    {
     "data": {
      "text/plain": [
       "[2, 3]"
      ]
     },
     "execution_count": 38,
     "metadata": {},
     "output_type": "execute_result"
    }
   ],
   "source": [
    "def common_elements(x):\n",
    "    lst = []\n",
    "    for i in range(len(x)):\n",
    "        if i in x[i]:\n",
    "            lst.append(i)\n",
    "        else:\n",
    "            i\n",
    "    return lst\n",
    "common_elements([(1,2), (2, 4), (2, 5), [2,3]])"
   ]
  },
  {
   "cell_type": "code",
   "execution_count": 64,
   "metadata": {},
   "outputs": [
    {
     "data": {
      "text/plain": [
       "{2}"
      ]
     },
     "execution_count": 64,
     "metadata": {},
     "output_type": "execute_result"
    }
   ],
   "source": [
    "def common_elements(x):\n",
    "    a = set(x[0])\n",
    "    for i in x[1:]:\n",
    "        a.intersection_update(*x) #Use intersection_update in order to check all the elements after x[0]\n",
    "    return a\n",
    "\n",
    "common_elements([(1,2), [2, 3], [2, 3], [2,3]])"
   ]
  },
  {
   "cell_type": "markdown",
   "metadata": {},
   "source": [
    "# Pendulum Formula\n",
    "\n",
    "Consider a pendulum of length $L$. The time period $T$ of this pendulum is the amount of time it takes for the pendulum to complete one full swing. The amount of time $T(L)$ given the length of a pendulum is given by the formula:\n",
    "\n",
    "$$T(L) = 2 \\pi \\sqrt{\\dfrac{L}{g}} $$\n",
    "\n",
    "Where $\\pi$ is the math constant *pi* and $g$ is the gravity on earth ($9.8 m/s$).\n",
    "\n",
    "Write a function $T(L)$ that returns the time for a given length in meters.\n",
    "\n",
    "```\n",
    "pendulum(5) -> 4.487989505128276\n",
    "pendulum(50) -> 14.192268951137288\n",
    "```\n",
    "\n",
    "\n",
    "**hint:** use `import numpy` or `import math` to get the square root function and the value of pi\n",
    "\n",
    "**hint:** since since $g$ is in $m / sec$ and $l$ is in $m$ and you return in $sec$, you can make the function very simple"
   ]
  },
  {
   "cell_type": "code",
   "execution_count": 57,
   "metadata": {},
   "outputs": [
    {
     "data": {
      "text/plain": [
       "14.192268951137288"
      ]
     },
     "execution_count": 57,
     "metadata": {},
     "output_type": "execute_result"
    }
   ],
   "source": [
    "import math #in order to use sqrt and pi\n",
    "\n",
    "def pendulum(L):\n",
    "    T = ((math.pi) * 2) * (math.sqrt(L/9.8)) #As per the formula\n",
    "    return T\n",
    "\n",
    "pendulum(50)   "
   ]
  },
  {
   "cell_type": "markdown",
   "metadata": {},
   "source": [
    "# Set Generation\n",
    "\n",
    "Use a one line python list comprehension to generate a list with the powers of 2 set:\n",
    "\n",
    "$$S = \\{x \\in 1, 2, 4, 8, 16, 32, 64, ... | x < 562949953421312 \\}$$\n",
    "\n"
   ]
  },
  {
   "cell_type": "code",
   "execution_count": 4,
   "metadata": {},
   "outputs": [
    {
     "data": {
      "text/plain": [
       "[1,\n",
       " 2,\n",
       " 4,\n",
       " 8,\n",
       " 16,\n",
       " 32,\n",
       " 64,\n",
       " 128,\n",
       " 256,\n",
       " 512,\n",
       " 1024,\n",
       " 2048,\n",
       " 4096,\n",
       " 8192,\n",
       " 16384,\n",
       " 32768,\n",
       " 65536,\n",
       " 131072,\n",
       " 262144,\n",
       " 524288,\n",
       " 1048576,\n",
       " 2097152,\n",
       " 4194304,\n",
       " 8388608,\n",
       " 16777216,\n",
       " 33554432,\n",
       " 67108864,\n",
       " 134217728,\n",
       " 268435456,\n",
       " 536870912,\n",
       " 1073741824,\n",
       " 2147483648,\n",
       " 4294967296,\n",
       " 8589934592,\n",
       " 17179869184,\n",
       " 34359738368,\n",
       " 68719476736,\n",
       " 137438953472,\n",
       " 274877906944,\n",
       " 549755813888,\n",
       " 1099511627776,\n",
       " 2199023255552,\n",
       " 4398046511104,\n",
       " 8796093022208,\n",
       " 17592186044416,\n",
       " 35184372088832,\n",
       " 70368744177664,\n",
       " 140737488355328,\n",
       " 281474976710656,\n",
       " 562949953421312]"
      ]
     },
     "execution_count": 4,
     "metadata": {},
     "output_type": "execute_result"
    }
   ],
   "source": [
    "S = [2**x for x in range(0,50) if 2**x < 562949953421313] #check for all 2 ** x up until for 2 ** x = (562949953421312 + 1)\n",
    "S\n",
    "\n"
   ]
  },
  {
   "cell_type": "markdown",
   "metadata": {},
   "source": [
    "# Checking for Prime Numbers\n",
    "\n",
    "A [prime number](https://en.wikipedia.org/wiki/Prime_number) is a number that can only be divided by 1 and by itself. Write a function that takes in a positive integer and returns `True` if it's prime and `False` otherwise.\n",
    "\n",
    "```\n",
    "check_prime(5) -> True\n",
    "check_prime(13) -> True\n",
    "check_prime(9) -> 9\n",
    "check_prime(15) -> False\n",
    "```"
   ]
  },
  {
   "cell_type": "code",
   "execution_count": 42,
   "metadata": {
    "colab": {},
    "colab_type": "code",
    "id": "l4IdYSgyuwXb"
   },
   "outputs": [
    {
     "data": {
      "text/plain": [
       "True"
      ]
     },
     "execution_count": 42,
     "metadata": {},
     "output_type": "execute_result"
    }
   ],
   "source": [
    "def check_prime(n):\n",
    "    '''\n",
    "    If the number is positive, iterate from 2 to (n-1) and check to see if n is divisible by any number\n",
    "    '''\n",
    "    if n > 1:\n",
    "        for i in range(2,n):\n",
    "            if n % i == 0:\n",
    "                return False\n",
    "        else:\n",
    "            return True\n",
    "    else:\n",
    "        return False\n",
    "\n",
    "check_prime(2) "
   ]
  }
 ],
 "metadata": {
  "colab": {
   "authorship_tag": "ABX9TyPmRY5kGt5p34lIAs/rfhTY",
   "collapsed_sections": [],
   "name": "Workshop Math Intro.ipynb",
   "provenance": []
  },
  "kernelspec": {
   "display_name": "Python 3",
   "language": "python",
   "name": "python3"
  },
  "language_info": {
   "codemirror_mode": {
    "name": "ipython",
    "version": 3
   },
   "file_extension": ".py",
   "mimetype": "text/x-python",
   "name": "python",
   "nbconvert_exporter": "python",
   "pygments_lexer": "ipython3",
   "version": "3.8.3"
  }
 },
 "nbformat": 4,
 "nbformat_minor": 1
}

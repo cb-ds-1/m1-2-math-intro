{
 "cells": [
  {
   "cell_type": "markdown",
   "metadata": {},
   "source": [
    "# Warmup: Count to 50"
   ]
  },
  {
   "cell_type": "code",
   "execution_count": 308,
   "metadata": {},
   "outputs": [],
   "source": [
    "from numpy.random import randint"
   ]
  },
  {
   "cell_type": "code",
   "execution_count": 309,
   "metadata": {},
   "outputs": [],
   "source": [
    "def rollto50():\n",
    "    '''\n",
    "    This function counts the total number of rolls until the \n",
    "    total of the rolls is 50 or more.\n",
    "    '''\n",
    "    total = 0\n",
    "    rolls = 0\n",
    "    \n",
    "    while total < 50:\n",
    "        total = total + randint(1,13)\n",
    "        rolls = rolls + 1\n",
    "    return rolls"
   ]
  },
  {
   "cell_type": "markdown",
   "metadata": {},
   "source": [
    "Check:"
   ]
  },
  {
   "cell_type": "code",
   "execution_count": 271,
   "metadata": {},
   "outputs": [
    {
     "data": {
      "text/plain": [
       "5"
      ]
     },
     "execution_count": 271,
     "metadata": {},
     "output_type": "execute_result"
    }
   ],
   "source": [
    "rollto50()"
   ]
  },
  {
   "cell_type": "markdown",
   "metadata": {},
   "source": [
    "# Problem 1: Monte Carlo Sampling"
   ]
  },
  {
   "cell_type": "code",
   "execution_count": 319,
   "metadata": {},
   "outputs": [],
   "source": [
    "def monte_carlo_dice(n):\n",
    "    '''\n",
    "    This function rolls a 6-sided die n times\n",
    "    and averages the result.\n",
    "    '''\n",
    "    total = 0\n",
    "    \n",
    "    for i in range(n):\n",
    "        total = total + randint(1,7)\n",
    "    average = total / n\n",
    "    print(f\"n: {n} Trial average {average}\")"
   ]
  },
  {
   "cell_type": "markdown",
   "metadata": {},
   "source": [
    "Checks:"
   ]
  },
  {
   "cell_type": "code",
   "execution_count": 320,
   "metadata": {},
   "outputs": [
    {
     "name": "stdout",
     "output_type": "stream",
     "text": [
      "n: 500000 Trial average 3.497078\n"
     ]
    }
   ],
   "source": [
    "monte_carlo_dice(500000)"
   ]
  },
  {
   "cell_type": "markdown",
   "metadata": {},
   "source": [
    "# Problem 2: Estimating the Area of a Circle"
   ]
  },
  {
   "cell_type": "code",
   "execution_count": 382,
   "metadata": {},
   "outputs": [],
   "source": [
    "from numpy.random import rand\n",
    "import math"
   ]
  },
  {
   "cell_type": "code",
   "execution_count": 392,
   "metadata": {},
   "outputs": [],
   "source": [
    "def circle_estimate(radius, trials):\n",
    "    '''\n",
    "    This function estimates the area of a circle by\n",
    "    throwing \"trials\" random darts at the square.\n",
    "    '''\n",
    "    N=0 #number of darts that hit circle\n",
    "    M=0 #number of darts that missed circle\n",
    "    \n",
    "    for trial in range(trials):\n",
    "        \n",
    "        #throw a dart at the board\n",
    "        x,y = rand(2) * radius\n",
    "        \n",
    "        #distance from the center of the board\n",
    "        dist = math.sqrt(x**2 + y**2)\n",
    "        \n",
    "        if dist <= radius:\n",
    "            N = N + 1\n",
    "        else:\n",
    "            M = M + 1\n",
    "    \n",
    "    est_area = (N / (N + M)) * (2 * radius) * (2 * radius)\n",
    "    \n",
    "    actual_area = math.pi * radius**2\n",
    "    \n",
    "    print(f\"Area: {actual_area}, Estimated ({trials} darts): {est_area}\")"
   ]
  },
  {
   "cell_type": "markdown",
   "metadata": {},
   "source": [
    "Check:"
   ]
  },
  {
   "cell_type": "code",
   "execution_count": 395,
   "metadata": {},
   "outputs": [
    {
     "name": "stdout",
     "output_type": "stream",
     "text": [
      "Area: 12.566370614359172, Estimated (1000000 darts): 12.561536\n"
     ]
    }
   ],
   "source": [
    "circle_estimate(2, 1000000)"
   ]
  },
  {
   "cell_type": "markdown",
   "metadata": {},
   "source": [
    "# Problem 3: Binomial distribution"
   ]
  },
  {
   "cell_type": "code",
   "execution_count": 397,
   "metadata": {},
   "outputs": [],
   "source": [
    "import numpy as np\n",
    "from numpy.random import uniform"
   ]
  },
  {
   "cell_type": "code",
   "execution_count": 413,
   "metadata": {},
   "outputs": [],
   "source": [
    "def binomial_rv(n, p):\n",
    "    '''\n",
    "    This function generates one draw of binomial random value Y.\n",
    "    '''\n",
    "    res = 0\n",
    "    \n",
    "    for i in range(n):\n",
    "        \n",
    "        rand=np.random.uniform(0,1)\n",
    "        \n",
    "        if (rand >= (1-p)): # success\n",
    "            res = res+1\n",
    "            \n",
    "    return res"
   ]
  },
  {
   "cell_type": "markdown",
   "metadata": {},
   "source": [
    "Check:"
   ]
  },
  {
   "cell_type": "code",
   "execution_count": 417,
   "metadata": {},
   "outputs": [
    {
     "data": {
      "text/plain": [
       "5"
      ]
     },
     "execution_count": 417,
     "metadata": {},
     "output_type": "execute_result"
    }
   ],
   "source": [
    "binomial_rv(10, 0.5)"
   ]
  }
 ],
 "metadata": {
  "kernelspec": {
   "display_name": "Python 3",
   "language": "python",
   "name": "python3"
  },
  "language_info": {
   "codemirror_mode": {
    "name": "ipython",
    "version": 3
   },
   "file_extension": ".py",
   "mimetype": "text/x-python",
   "name": "python",
   "nbconvert_exporter": "python",
   "pygments_lexer": "ipython3",
   "version": "3.7.6"
  }
 },
 "nbformat": 4,
 "nbformat_minor": 4
}
